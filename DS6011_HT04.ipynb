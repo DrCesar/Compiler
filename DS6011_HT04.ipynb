{
  "nbformat": 4,
  "nbformat_minor": 0,
  "metadata": {
    "colab": {
      "name": "DS6011_HT04.ipynb",
      "provenance": [],
      "collapsed_sections": []
    },
    "kernelspec": {
      "name": "python3",
      "display_name": "Python 3"
    },
    "language_info": {
      "name": "python"
    }
  },
  "cells": [
    {
      "cell_type": "markdown",
      "metadata": {
        "id": "saaO06RMwzGH"
      },
      "source": [
        "# Hoja de Trabajo \\# 4\n",
        "\n",
        "---\n",
        "\n",
        "\n",
        "por Josué Obregón <br>\n",
        "DS6011 - Feature Engineering <br>\n",
        "UVG Masters - Escuela de Negocios<br>\n"
      ]
    },
    {
      "cell_type": "markdown",
      "metadata": {
        "id": "w0-nImUHNxOv"
      },
      "source": [
        "## Objetivos\n",
        "\n",
        "El objetivo de esta hoja de trabajo  es presentar al estudiante diferentes técnicas de codificación de variables categóricas. Éstas técnicas incluyen codificadores clásicos, de contraste y codificadores supervisados o bayesianos.\n",
        "\n",
        "También se busca que el estudiante practique la utilización de éstas técnicas con las librerías disponibles en el lenguaje Python.\n"
      ]
    },
    {
      "cell_type": "markdown",
      "metadata": {
        "id": "RYjZ_KEuTCTe"
      },
      "source": [
        "## Importación de librerías y carga de los datos a varios pandas [DataFrames](https://pandas.pydata.org/pandas-docs/version/1.1.5/reference/frame.html)\n",
        "\n",
        "\n"
      ]
    },
    {
      "cell_type": "code",
      "metadata": {
        "id": "wMpdDWhPMSS7"
      },
      "source": [
        "import pandas as pd\n",
        "import numpy as np\n",
        "import matplotlib.pyplot as plt\n",
        "import seaborn as sns\n",
        "import plotly.express as px\n",
        "import plotly.graph_objects as go"
      ],
      "execution_count": 2,
      "outputs": []
    },
    {
      "cell_type": "code",
      "metadata": {
        "id": "bBRl7VGfALex"
      },
      "source": [
        "!mkdir data"
      ],
      "execution_count": 4,
      "outputs": []
    },
    {
      "cell_type": "code",
      "metadata": {
        "id": "YR1uTokC8Wzi",
        "colab": {
          "base_uri": "https://localhost:8080/"
        },
        "outputId": "decc4e35-b797-4f3f-a982-352ce7c06f6a"
      },
      "source": [
        "import gdown\n",
        "\n",
        "urls = ['https://drive.google.com/uc?export=download&id=16AGQw1nM9NYILv2aSZaSNSn9jBPByWPq', # okc_train  https://drive.google.com/file/d/16AGQw1nM9NYILv2aSZaSNSn9jBPByWPq/view?usp=sharing\n",
        "        ]\n",
        "outputs = ['okc_train.csv']\n",
        "for url,output in zip(urls,outputs):\n",
        "  gdown.download(url, f'data/{output}', quiet=False)"
      ],
      "execution_count": 5,
      "outputs": [
        {
          "output_type": "stream",
          "text": [
            "Downloading...\n",
            "From: https://drive.google.com/uc?export=download&id=16AGQw1nM9NYILv2aSZaSNSn9jBPByWPq\n",
            "To: /content/data/okc_train.csv\n",
            "12.3MB [00:00, 108MB/s]\n"
          ],
          "name": "stderr"
        }
      ]
    },
    {
      "cell_type": "code",
      "metadata": {
        "id": "tbt7GzUNOT3O"
      },
      "source": [
        "df = pd.read_csv('data/okc_train.csv',index_col=0)"
      ],
      "execution_count": 8,
      "outputs": []
    },
    {
      "cell_type": "code",
      "metadata": {
        "id": "JZpHzHmXH_9p",
        "colab": {
          "base_uri": "https://localhost:8080/",
          "height": 226
        },
        "outputId": "e4162440-26d5-41ff-ca5b-dbdca7a41cb6"
      },
      "source": [
        "df.head()"
      ],
      "execution_count": 9,
      "outputs": [
        {
          "output_type": "execute_result",
          "data": {
            "text/html": [
              "<div>\n",
              "<style scoped>\n",
              "    .dataframe tbody tr th:only-of-type {\n",
              "        vertical-align: middle;\n",
              "    }\n",
              "\n",
              "    .dataframe tbody tr th {\n",
              "        vertical-align: top;\n",
              "    }\n",
              "\n",
              "    .dataframe thead th {\n",
              "        text-align: right;\n",
              "    }\n",
              "</style>\n",
              "<table border=\"1\" class=\"dataframe\">\n",
              "  <thead>\n",
              "    <tr style=\"text-align: right;\">\n",
              "      <th></th>\n",
              "      <th>age</th>\n",
              "      <th>diet</th>\n",
              "      <th>drinks</th>\n",
              "      <th>drugs</th>\n",
              "      <th>education</th>\n",
              "      <th>height</th>\n",
              "      <th>income</th>\n",
              "      <th>last_online</th>\n",
              "      <th>offspring</th>\n",
              "      <th>pets</th>\n",
              "      <th>religion</th>\n",
              "      <th>sign</th>\n",
              "      <th>smokes</th>\n",
              "      <th>status</th>\n",
              "      <th>where_state</th>\n",
              "      <th>where_town</th>\n",
              "      <th>religion_modifer</th>\n",
              "      <th>sign_modifer</th>\n",
              "      <th>cpp</th>\n",
              "      <th>cpp_fluently</th>\n",
              "      <th>cpp_okay</th>\n",
              "      <th>cpp_poorly</th>\n",
              "      <th>lisp</th>\n",
              "      <th>lisp_fluently</th>\n",
              "      <th>lisp_okay</th>\n",
              "      <th>lisp_poorly</th>\n",
              "      <th>asian</th>\n",
              "      <th>black</th>\n",
              "      <th>hispanic_latin</th>\n",
              "      <th>indian</th>\n",
              "      <th>middle_eastern</th>\n",
              "      <th>native_american</th>\n",
              "      <th>other</th>\n",
              "      <th>pacific_islander</th>\n",
              "      <th>white</th>\n",
              "      <th>essay_length</th>\n",
              "      <th>Class</th>\n",
              "      <th>profile</th>\n",
              "    </tr>\n",
              "  </thead>\n",
              "  <tbody>\n",
              "    <tr>\n",
              "      <th>1</th>\n",
              "      <td>22</td>\n",
              "      <td>strictly_anything</td>\n",
              "      <td>socially</td>\n",
              "      <td>never</td>\n",
              "      <td>working_on_college_university</td>\n",
              "      <td>75</td>\n",
              "      <td>missing</td>\n",
              "      <td>3</td>\n",
              "      <td>doesnt_have_kids_but_might_want_them</td>\n",
              "      <td>likes_dogs_and_likes_cats</td>\n",
              "      <td>agnosticism</td>\n",
              "      <td>gemini</td>\n",
              "      <td>sometimes</td>\n",
              "      <td>single</td>\n",
              "      <td>california</td>\n",
              "      <td>south_san_francisco</td>\n",
              "      <td>and_very_serious_about_it</td>\n",
              "      <td>sign_mod_missing</td>\n",
              "      <td>0</td>\n",
              "      <td>0</td>\n",
              "      <td>0</td>\n",
              "      <td>0</td>\n",
              "      <td>0</td>\n",
              "      <td>0</td>\n",
              "      <td>0</td>\n",
              "      <td>0</td>\n",
              "      <td>1</td>\n",
              "      <td>0</td>\n",
              "      <td>0</td>\n",
              "      <td>0</td>\n",
              "      <td>0</td>\n",
              "      <td>0</td>\n",
              "      <td>0</td>\n",
              "      <td>0</td>\n",
              "      <td>1</td>\n",
              "      <td>3.420945</td>\n",
              "      <td>other</td>\n",
              "      <td>1</td>\n",
              "    </tr>\n",
              "    <tr>\n",
              "      <th>4</th>\n",
              "      <td>23</td>\n",
              "      <td>vegetarian</td>\n",
              "      <td>socially</td>\n",
              "      <td>drugs_missing</td>\n",
              "      <td>working_on_college_university</td>\n",
              "      <td>71</td>\n",
              "      <td>inc20000</td>\n",
              "      <td>3</td>\n",
              "      <td>doesnt_want_kids</td>\n",
              "      <td>likes_cats</td>\n",
              "      <td>religion_missing</td>\n",
              "      <td>pisces</td>\n",
              "      <td>no</td>\n",
              "      <td>single</td>\n",
              "      <td>california</td>\n",
              "      <td>berkeley</td>\n",
              "      <td>religion_mod_missing</td>\n",
              "      <td>sign_mod_missing</td>\n",
              "      <td>0</td>\n",
              "      <td>0</td>\n",
              "      <td>0</td>\n",
              "      <td>0</td>\n",
              "      <td>0</td>\n",
              "      <td>0</td>\n",
              "      <td>0</td>\n",
              "      <td>0</td>\n",
              "      <td>0</td>\n",
              "      <td>0</td>\n",
              "      <td>0</td>\n",
              "      <td>0</td>\n",
              "      <td>0</td>\n",
              "      <td>0</td>\n",
              "      <td>0</td>\n",
              "      <td>0</td>\n",
              "      <td>1</td>\n",
              "      <td>2.671173</td>\n",
              "      <td>other</td>\n",
              "      <td>3</td>\n",
              "    </tr>\n",
              "    <tr>\n",
              "      <th>6</th>\n",
              "      <td>29</td>\n",
              "      <td>mostly_anything</td>\n",
              "      <td>socially</td>\n",
              "      <td>drugs_missing</td>\n",
              "      <td>graduated_from_college_university</td>\n",
              "      <td>67</td>\n",
              "      <td>missing</td>\n",
              "      <td>2</td>\n",
              "      <td>doesnt_have_kids_but_might_want_them</td>\n",
              "      <td>likes_cats</td>\n",
              "      <td>atheism</td>\n",
              "      <td>taurus</td>\n",
              "      <td>no</td>\n",
              "      <td>single</td>\n",
              "      <td>california</td>\n",
              "      <td>san_francisco</td>\n",
              "      <td>religion_mod_missing</td>\n",
              "      <td>sign_mod_missing</td>\n",
              "      <td>0</td>\n",
              "      <td>0</td>\n",
              "      <td>0</td>\n",
              "      <td>0</td>\n",
              "      <td>0</td>\n",
              "      <td>0</td>\n",
              "      <td>0</td>\n",
              "      <td>0</td>\n",
              "      <td>0</td>\n",
              "      <td>0</td>\n",
              "      <td>0</td>\n",
              "      <td>0</td>\n",
              "      <td>0</td>\n",
              "      <td>0</td>\n",
              "      <td>0</td>\n",
              "      <td>0</td>\n",
              "      <td>1</td>\n",
              "      <td>3.391112</td>\n",
              "      <td>stem</td>\n",
              "      <td>5</td>\n",
              "    </tr>\n",
              "    <tr>\n",
              "      <th>8</th>\n",
              "      <td>31</td>\n",
              "      <td>mostly_anything</td>\n",
              "      <td>socially</td>\n",
              "      <td>never</td>\n",
              "      <td>graduated_from_college_university</td>\n",
              "      <td>65</td>\n",
              "      <td>missing</td>\n",
              "      <td>2</td>\n",
              "      <td>doesnt_have_kids_but_wants_them</td>\n",
              "      <td>likes_dogs_and_likes_cats</td>\n",
              "      <td>christianity</td>\n",
              "      <td>sagittarius</td>\n",
              "      <td>no</td>\n",
              "      <td>single</td>\n",
              "      <td>california</td>\n",
              "      <td>san_francisco</td>\n",
              "      <td>religion_mod_missing</td>\n",
              "      <td>sign_mod_missing</td>\n",
              "      <td>0</td>\n",
              "      <td>0</td>\n",
              "      <td>0</td>\n",
              "      <td>0</td>\n",
              "      <td>0</td>\n",
              "      <td>0</td>\n",
              "      <td>0</td>\n",
              "      <td>0</td>\n",
              "      <td>0</td>\n",
              "      <td>0</td>\n",
              "      <td>0</td>\n",
              "      <td>0</td>\n",
              "      <td>0</td>\n",
              "      <td>0</td>\n",
              "      <td>0</td>\n",
              "      <td>0</td>\n",
              "      <td>1</td>\n",
              "      <td>3.090611</td>\n",
              "      <td>other</td>\n",
              "      <td>6</td>\n",
              "    </tr>\n",
              "    <tr>\n",
              "      <th>10</th>\n",
              "      <td>37</td>\n",
              "      <td>mostly_anything</td>\n",
              "      <td>not_at_all</td>\n",
              "      <td>never</td>\n",
              "      <td>working_on_two_year_college</td>\n",
              "      <td>65</td>\n",
              "      <td>missing</td>\n",
              "      <td>3</td>\n",
              "      <td>kids_missing</td>\n",
              "      <td>likes_dogs_and_likes_cats</td>\n",
              "      <td>atheism</td>\n",
              "      <td>cancer</td>\n",
              "      <td>no</td>\n",
              "      <td>single</td>\n",
              "      <td>california</td>\n",
              "      <td>san_mateo</td>\n",
              "      <td>and_laughing_about_it</td>\n",
              "      <td>but_it_doesnt_matter</td>\n",
              "      <td>0</td>\n",
              "      <td>0</td>\n",
              "      <td>0</td>\n",
              "      <td>0</td>\n",
              "      <td>0</td>\n",
              "      <td>0</td>\n",
              "      <td>0</td>\n",
              "      <td>0</td>\n",
              "      <td>0</td>\n",
              "      <td>0</td>\n",
              "      <td>0</td>\n",
              "      <td>0</td>\n",
              "      <td>0</td>\n",
              "      <td>0</td>\n",
              "      <td>0</td>\n",
              "      <td>0</td>\n",
              "      <td>1</td>\n",
              "      <td>3.382377</td>\n",
              "      <td>other</td>\n",
              "      <td>7</td>\n",
              "    </tr>\n",
              "  </tbody>\n",
              "</table>\n",
              "</div>"
            ],
            "text/plain": [
              "    age               diet      drinks  ... essay_length  Class  profile\n",
              "1    22  strictly_anything    socially  ...     3.420945  other        1\n",
              "4    23         vegetarian    socially  ...     2.671173  other        3\n",
              "6    29    mostly_anything    socially  ...     3.391112   stem        5\n",
              "8    31    mostly_anything    socially  ...     3.090611  other        6\n",
              "10   37    mostly_anything  not_at_all  ...     3.382377  other        7\n",
              "\n",
              "[5 rows x 38 columns]"
            ]
          },
          "metadata": {
            "tags": []
          },
          "execution_count": 9
        }
      ]
    },
    {
      "cell_type": "code",
      "metadata": {
        "id": "w__Vfr55ICKt",
        "colab": {
          "base_uri": "https://localhost:8080/"
        },
        "outputId": "e5680464-12ed-4054-800d-df839da53bce"
      },
      "source": [
        "df['drinks'].value_counts()"
      ],
      "execution_count": 10,
      "outputs": [
        {
          "output_type": "execute_result",
          "data": {
            "text/plain": [
              "socially          27521\n",
              "rarely             3981\n",
              "often              3413\n",
              "not_at_all         2157\n",
              "drinks_missing     1208\n",
              "very_often          319\n",
              "desperately         210\n",
              "Name: drinks, dtype: int64"
            ]
          },
          "metadata": {
            "tags": []
          },
          "execution_count": 10
        }
      ]
    },
    {
      "cell_type": "code",
      "metadata": {
        "id": "ifqD4NX9tDcV",
        "colab": {
          "base_uri": "https://localhost:8080/"
        },
        "outputId": "ac2b29a6-f0a7-4993-a769-879611b088fa"
      },
      "source": [
        "df['diet'].value_counts()"
      ],
      "execution_count": null,
      "outputs": [
        {
          "output_type": "execute_result",
          "data": {
            "text/plain": [
              "diet_missing           14698\n",
              "mostly_anything        11430\n",
              "anything                4096\n",
              "strictly_anything       3440\n",
              "mostly_vegetarian       2313\n",
              "mostly_other             700\n",
              "strictly_vegetarian      588\n",
              "vegetarian               448\n",
              "strictly_other           304\n",
              "mostly_vegan             220\n",
              "other                    217\n",
              "strictly_vegan           142\n",
              "vegan                     82\n",
              "mostly_kosher             59\n",
              "mostly_halal              39\n",
              "strictly_kosher           11\n",
              "strictly_halal            10\n",
              "kosher                     9\n",
              "halal                      3\n",
              "Name: diet, dtype: int64"
            ]
          },
          "metadata": {
            "tags": []
          },
          "execution_count": 11
        }
      ]
    },
    {
      "cell_type": "markdown",
      "metadata": {
        "id": "V4ftP8Trwta8"
      },
      "source": [
        "Pequeño dataset de prueba para algunas explicaciones y para las figuras en las diapositivas\n"
      ]
    },
    {
      "cell_type": "code",
      "metadata": {
        "id": "N6QlcRqsw2mL"
      },
      "source": [
        "df_test = pd.DataFrame({\n",
        "... 'City': ['SF', 'SF', 'SF', 'NYC', 'NYC', 'NYC',\n",
        "... 'Seattle', 'Seattle', 'Seattle'],\n",
        "... 'Rent': [3999, 4000, 4001, 3499, 3500, 3501, 2499, 2500, 2501]\n",
        "... })"
      ],
      "execution_count": 11,
      "outputs": []
    },
    {
      "cell_type": "code",
      "metadata": {
        "id": "QIJZ13cvw2mL",
        "colab": {
          "base_uri": "https://localhost:8080/",
          "height": 332
        },
        "outputId": "ed301f43-bcb6-4499-b5f8-680f092cf5e3"
      },
      "source": [
        "df_test"
      ],
      "execution_count": 12,
      "outputs": [
        {
          "output_type": "execute_result",
          "data": {
            "text/html": [
              "<div>\n",
              "<style scoped>\n",
              "    .dataframe tbody tr th:only-of-type {\n",
              "        vertical-align: middle;\n",
              "    }\n",
              "\n",
              "    .dataframe tbody tr th {\n",
              "        vertical-align: top;\n",
              "    }\n",
              "\n",
              "    .dataframe thead th {\n",
              "        text-align: right;\n",
              "    }\n",
              "</style>\n",
              "<table border=\"1\" class=\"dataframe\">\n",
              "  <thead>\n",
              "    <tr style=\"text-align: right;\">\n",
              "      <th></th>\n",
              "      <th>City</th>\n",
              "      <th>Rent</th>\n",
              "    </tr>\n",
              "  </thead>\n",
              "  <tbody>\n",
              "    <tr>\n",
              "      <th>0</th>\n",
              "      <td>SF</td>\n",
              "      <td>3999</td>\n",
              "    </tr>\n",
              "    <tr>\n",
              "      <th>1</th>\n",
              "      <td>SF</td>\n",
              "      <td>4000</td>\n",
              "    </tr>\n",
              "    <tr>\n",
              "      <th>2</th>\n",
              "      <td>SF</td>\n",
              "      <td>4001</td>\n",
              "    </tr>\n",
              "    <tr>\n",
              "      <th>3</th>\n",
              "      <td>NYC</td>\n",
              "      <td>3499</td>\n",
              "    </tr>\n",
              "    <tr>\n",
              "      <th>4</th>\n",
              "      <td>NYC</td>\n",
              "      <td>3500</td>\n",
              "    </tr>\n",
              "    <tr>\n",
              "      <th>5</th>\n",
              "      <td>NYC</td>\n",
              "      <td>3501</td>\n",
              "    </tr>\n",
              "    <tr>\n",
              "      <th>6</th>\n",
              "      <td>Seattle</td>\n",
              "      <td>2499</td>\n",
              "    </tr>\n",
              "    <tr>\n",
              "      <th>7</th>\n",
              "      <td>Seattle</td>\n",
              "      <td>2500</td>\n",
              "    </tr>\n",
              "    <tr>\n",
              "      <th>8</th>\n",
              "      <td>Seattle</td>\n",
              "      <td>2501</td>\n",
              "    </tr>\n",
              "  </tbody>\n",
              "</table>\n",
              "</div>"
            ],
            "text/plain": [
              "      City  Rent\n",
              "0       SF  3999\n",
              "1       SF  4000\n",
              "2       SF  4001\n",
              "3      NYC  3499\n",
              "4      NYC  3500\n",
              "5      NYC  3501\n",
              "6  Seattle  2499\n",
              "7  Seattle  2500\n",
              "8  Seattle  2501"
            ]
          },
          "metadata": {
            "tags": []
          },
          "execution_count": 12
        }
      ]
    },
    {
      "cell_type": "markdown",
      "metadata": {
        "id": "4pKFtLouXfG4"
      },
      "source": [
        "Para esta hoja de trabajo vamos a utilizar la librería [category_encoders](http://contrib.scikit-learn.org/category_encoders/index.html), la cual es compatible con scikit-learn."
      ]
    },
    {
      "cell_type": "code",
      "metadata": {
        "id": "6TJXc11RIOG5",
        "colab": {
          "base_uri": "https://localhost:8080/"
        },
        "outputId": "c96a57ac-8692-4d1c-821e-831a4421dfb3"
      },
      "source": [
        "!pip install category_encoders"
      ],
      "execution_count": 6,
      "outputs": [
        {
          "output_type": "stream",
          "text": [
            "Collecting category_encoders\n",
            "\u001b[?25l  Downloading https://files.pythonhosted.org/packages/44/57/fcef41c248701ee62e8325026b90c432adea35555cbc870aff9cfba23727/category_encoders-2.2.2-py2.py3-none-any.whl (80kB)\n",
            "\r\u001b[K     |████                            | 10kB 19.2MB/s eta 0:00:01\r\u001b[K     |████████▏                       | 20kB 27.7MB/s eta 0:00:01\r\u001b[K     |████████████▏                   | 30kB 28.8MB/s eta 0:00:01\r\u001b[K     |████████████████▎               | 40kB 19.9MB/s eta 0:00:01\r\u001b[K     |████████████████████▎           | 51kB 13.9MB/s eta 0:00:01\r\u001b[K     |████████████████████████▍       | 61kB 11.8MB/s eta 0:00:01\r\u001b[K     |████████████████████████████▍   | 71kB 13.1MB/s eta 0:00:01\r\u001b[K     |████████████████████████████████| 81kB 4.7MB/s \n",
            "\u001b[?25hRequirement already satisfied: statsmodels>=0.9.0 in /usr/local/lib/python3.7/dist-packages (from category_encoders) (0.10.2)\n",
            "Requirement already satisfied: scipy>=1.0.0 in /usr/local/lib/python3.7/dist-packages (from category_encoders) (1.4.1)\n",
            "Requirement already satisfied: patsy>=0.5.1 in /usr/local/lib/python3.7/dist-packages (from category_encoders) (0.5.1)\n",
            "Requirement already satisfied: numpy>=1.14.0 in /usr/local/lib/python3.7/dist-packages (from category_encoders) (1.19.5)\n",
            "Requirement already satisfied: scikit-learn>=0.20.0 in /usr/local/lib/python3.7/dist-packages (from category_encoders) (0.22.2.post1)\n",
            "Requirement already satisfied: pandas>=0.21.1 in /usr/local/lib/python3.7/dist-packages (from category_encoders) (1.1.5)\n",
            "Requirement already satisfied: six in /usr/local/lib/python3.7/dist-packages (from patsy>=0.5.1->category_encoders) (1.15.0)\n",
            "Requirement already satisfied: joblib>=0.11 in /usr/local/lib/python3.7/dist-packages (from scikit-learn>=0.20.0->category_encoders) (1.0.1)\n",
            "Requirement already satisfied: python-dateutil>=2.7.3 in /usr/local/lib/python3.7/dist-packages (from pandas>=0.21.1->category_encoders) (2.8.1)\n",
            "Requirement already satisfied: pytz>=2017.2 in /usr/local/lib/python3.7/dist-packages (from pandas>=0.21.1->category_encoders) (2018.9)\n",
            "Installing collected packages: category-encoders\n",
            "Successfully installed category-encoders-2.2.2\n"
          ],
          "name": "stdout"
        }
      ]
    },
    {
      "cell_type": "code",
      "metadata": {
        "id": "o9jm8j4vpUR7"
      },
      "source": [
        "col = 'drinks'"
      ],
      "execution_count": 13,
      "outputs": []
    },
    {
      "cell_type": "markdown",
      "metadata": {
        "id": "bHbRN1o_U55I"
      },
      "source": [
        "# Unsupervised Encoders"
      ]
    },
    {
      "cell_type": "markdown",
      "metadata": {
        "id": "hXMSUeFtVAIB"
      },
      "source": [
        "## Classic Encoders"
      ]
    },
    {
      "cell_type": "markdown",
      "metadata": {
        "id": "oEFMQtldVDTw"
      },
      "source": [
        "### One-Hot Encoder"
      ]
    },
    {
      "cell_type": "code",
      "metadata": {
        "id": "8r2rOg4itiwb"
      },
      "source": [
        "from category_encoders import OneHotEncoder"
      ],
      "execution_count": null,
      "outputs": []
    },
    {
      "cell_type": "code",
      "metadata": {
        "id": "rWY_1O6FXsdz"
      },
      "source": [
        "one_hot_encoder = OneHotEncoder(use_cat_names=True)"
      ],
      "execution_count": null,
      "outputs": []
    },
    {
      "cell_type": "code",
      "metadata": {
        "id": "rzUCMjPYXsgm",
        "colab": {
          "base_uri": "https://localhost:8080/",
          "height": 497
        },
        "outputId": "106ff1cb-7851-4fd6-d0ac-188ebe9e3053"
      },
      "source": [
        "one_hot_encoder.fit_transform(df[[col]])"
      ],
      "execution_count": null,
      "outputs": [
        {
          "output_type": "stream",
          "text": [
            "/usr/local/lib/python3.7/dist-packages/category_encoders/utils.py:21: FutureWarning:\n",
            "\n",
            "is_categorical is deprecated and will be removed in a future version.  Use is_categorical_dtype instead\n",
            "\n"
          ],
          "name": "stderr"
        },
        {
          "output_type": "execute_result",
          "data": {
            "text/html": [
              "<div>\n",
              "<style scoped>\n",
              "    .dataframe tbody tr th:only-of-type {\n",
              "        vertical-align: middle;\n",
              "    }\n",
              "\n",
              "    .dataframe tbody tr th {\n",
              "        vertical-align: top;\n",
              "    }\n",
              "\n",
              "    .dataframe thead th {\n",
              "        text-align: right;\n",
              "    }\n",
              "</style>\n",
              "<table border=\"1\" class=\"dataframe\">\n",
              "  <thead>\n",
              "    <tr style=\"text-align: right;\">\n",
              "      <th></th>\n",
              "      <th>drinks_socially</th>\n",
              "      <th>drinks_not_at_all</th>\n",
              "      <th>drinks_rarely</th>\n",
              "      <th>drinks_often</th>\n",
              "      <th>drinks_drinks_missing</th>\n",
              "      <th>drinks_very_often</th>\n",
              "      <th>drinks_desperately</th>\n",
              "    </tr>\n",
              "  </thead>\n",
              "  <tbody>\n",
              "    <tr>\n",
              "      <th>1</th>\n",
              "      <td>1</td>\n",
              "      <td>0</td>\n",
              "      <td>0</td>\n",
              "      <td>0</td>\n",
              "      <td>0</td>\n",
              "      <td>0</td>\n",
              "      <td>0</td>\n",
              "    </tr>\n",
              "    <tr>\n",
              "      <th>4</th>\n",
              "      <td>1</td>\n",
              "      <td>0</td>\n",
              "      <td>0</td>\n",
              "      <td>0</td>\n",
              "      <td>0</td>\n",
              "      <td>0</td>\n",
              "      <td>0</td>\n",
              "    </tr>\n",
              "    <tr>\n",
              "      <th>6</th>\n",
              "      <td>1</td>\n",
              "      <td>0</td>\n",
              "      <td>0</td>\n",
              "      <td>0</td>\n",
              "      <td>0</td>\n",
              "      <td>0</td>\n",
              "      <td>0</td>\n",
              "    </tr>\n",
              "    <tr>\n",
              "      <th>8</th>\n",
              "      <td>1</td>\n",
              "      <td>0</td>\n",
              "      <td>0</td>\n",
              "      <td>0</td>\n",
              "      <td>0</td>\n",
              "      <td>0</td>\n",
              "      <td>0</td>\n",
              "    </tr>\n",
              "    <tr>\n",
              "      <th>10</th>\n",
              "      <td>0</td>\n",
              "      <td>1</td>\n",
              "      <td>0</td>\n",
              "      <td>0</td>\n",
              "      <td>0</td>\n",
              "      <td>0</td>\n",
              "      <td>0</td>\n",
              "    </tr>\n",
              "    <tr>\n",
              "      <th>...</th>\n",
              "      <td>...</td>\n",
              "      <td>...</td>\n",
              "      <td>...</td>\n",
              "      <td>...</td>\n",
              "      <td>...</td>\n",
              "      <td>...</td>\n",
              "      <td>...</td>\n",
              "    </tr>\n",
              "    <tr>\n",
              "      <th>59940</th>\n",
              "      <td>1</td>\n",
              "      <td>0</td>\n",
              "      <td>0</td>\n",
              "      <td>0</td>\n",
              "      <td>0</td>\n",
              "      <td>0</td>\n",
              "      <td>0</td>\n",
              "    </tr>\n",
              "    <tr>\n",
              "      <th>59943</th>\n",
              "      <td>0</td>\n",
              "      <td>0</td>\n",
              "      <td>0</td>\n",
              "      <td>1</td>\n",
              "      <td>0</td>\n",
              "      <td>0</td>\n",
              "      <td>0</td>\n",
              "    </tr>\n",
              "    <tr>\n",
              "      <th>59944</th>\n",
              "      <td>0</td>\n",
              "      <td>1</td>\n",
              "      <td>0</td>\n",
              "      <td>0</td>\n",
              "      <td>0</td>\n",
              "      <td>0</td>\n",
              "      <td>0</td>\n",
              "    </tr>\n",
              "    <tr>\n",
              "      <th>59945</th>\n",
              "      <td>1</td>\n",
              "      <td>0</td>\n",
              "      <td>0</td>\n",
              "      <td>0</td>\n",
              "      <td>0</td>\n",
              "      <td>0</td>\n",
              "      <td>0</td>\n",
              "    </tr>\n",
              "    <tr>\n",
              "      <th>59946</th>\n",
              "      <td>1</td>\n",
              "      <td>0</td>\n",
              "      <td>0</td>\n",
              "      <td>0</td>\n",
              "      <td>0</td>\n",
              "      <td>0</td>\n",
              "      <td>0</td>\n",
              "    </tr>\n",
              "  </tbody>\n",
              "</table>\n",
              "<p>38809 rows × 7 columns</p>\n",
              "</div>"
            ],
            "text/plain": [
              "       drinks_socially  ...  drinks_desperately\n",
              "1                    1  ...                   0\n",
              "4                    1  ...                   0\n",
              "6                    1  ...                   0\n",
              "8                    1  ...                   0\n",
              "10                   0  ...                   0\n",
              "...                ...  ...                 ...\n",
              "59940                1  ...                   0\n",
              "59943                0  ...                   0\n",
              "59944                0  ...                   0\n",
              "59945                1  ...                   0\n",
              "59946                1  ...                   0\n",
              "\n",
              "[38809 rows x 7 columns]"
            ]
          },
          "metadata": {
            "tags": []
          },
          "execution_count": 23
        }
      ]
    },
    {
      "cell_type": "code",
      "metadata": {
        "id": "hgHI22ILXsjd",
        "colab": {
          "base_uri": "https://localhost:8080/",
          "height": 332
        },
        "outputId": "712c2f39-d200-4f5b-dbbd-0759661651de"
      },
      "source": [
        "one_hot_encoder.mapping[0]['mapping']"
      ],
      "execution_count": null,
      "outputs": [
        {
          "output_type": "execute_result",
          "data": {
            "text/html": [
              "<div>\n",
              "<style scoped>\n",
              "    .dataframe tbody tr th:only-of-type {\n",
              "        vertical-align: middle;\n",
              "    }\n",
              "\n",
              "    .dataframe tbody tr th {\n",
              "        vertical-align: top;\n",
              "    }\n",
              "\n",
              "    .dataframe thead th {\n",
              "        text-align: right;\n",
              "    }\n",
              "</style>\n",
              "<table border=\"1\" class=\"dataframe\">\n",
              "  <thead>\n",
              "    <tr style=\"text-align: right;\">\n",
              "      <th></th>\n",
              "      <th>drinks_socially</th>\n",
              "      <th>drinks_not_at_all</th>\n",
              "      <th>drinks_rarely</th>\n",
              "      <th>drinks_often</th>\n",
              "      <th>drinks_drinks_missing</th>\n",
              "      <th>drinks_very_often</th>\n",
              "      <th>drinks_desperately</th>\n",
              "    </tr>\n",
              "  </thead>\n",
              "  <tbody>\n",
              "    <tr>\n",
              "      <th>1</th>\n",
              "      <td>1</td>\n",
              "      <td>0</td>\n",
              "      <td>0</td>\n",
              "      <td>0</td>\n",
              "      <td>0</td>\n",
              "      <td>0</td>\n",
              "      <td>0</td>\n",
              "    </tr>\n",
              "    <tr>\n",
              "      <th>2</th>\n",
              "      <td>0</td>\n",
              "      <td>1</td>\n",
              "      <td>0</td>\n",
              "      <td>0</td>\n",
              "      <td>0</td>\n",
              "      <td>0</td>\n",
              "      <td>0</td>\n",
              "    </tr>\n",
              "    <tr>\n",
              "      <th>3</th>\n",
              "      <td>0</td>\n",
              "      <td>0</td>\n",
              "      <td>1</td>\n",
              "      <td>0</td>\n",
              "      <td>0</td>\n",
              "      <td>0</td>\n",
              "      <td>0</td>\n",
              "    </tr>\n",
              "    <tr>\n",
              "      <th>4</th>\n",
              "      <td>0</td>\n",
              "      <td>0</td>\n",
              "      <td>0</td>\n",
              "      <td>1</td>\n",
              "      <td>0</td>\n",
              "      <td>0</td>\n",
              "      <td>0</td>\n",
              "    </tr>\n",
              "    <tr>\n",
              "      <th>5</th>\n",
              "      <td>0</td>\n",
              "      <td>0</td>\n",
              "      <td>0</td>\n",
              "      <td>0</td>\n",
              "      <td>1</td>\n",
              "      <td>0</td>\n",
              "      <td>0</td>\n",
              "    </tr>\n",
              "    <tr>\n",
              "      <th>6</th>\n",
              "      <td>0</td>\n",
              "      <td>0</td>\n",
              "      <td>0</td>\n",
              "      <td>0</td>\n",
              "      <td>0</td>\n",
              "      <td>1</td>\n",
              "      <td>0</td>\n",
              "    </tr>\n",
              "    <tr>\n",
              "      <th>7</th>\n",
              "      <td>0</td>\n",
              "      <td>0</td>\n",
              "      <td>0</td>\n",
              "      <td>0</td>\n",
              "      <td>0</td>\n",
              "      <td>0</td>\n",
              "      <td>1</td>\n",
              "    </tr>\n",
              "    <tr>\n",
              "      <th>-1</th>\n",
              "      <td>0</td>\n",
              "      <td>0</td>\n",
              "      <td>0</td>\n",
              "      <td>0</td>\n",
              "      <td>0</td>\n",
              "      <td>0</td>\n",
              "      <td>0</td>\n",
              "    </tr>\n",
              "    <tr>\n",
              "      <th>-2</th>\n",
              "      <td>0</td>\n",
              "      <td>0</td>\n",
              "      <td>0</td>\n",
              "      <td>0</td>\n",
              "      <td>0</td>\n",
              "      <td>0</td>\n",
              "      <td>0</td>\n",
              "    </tr>\n",
              "  </tbody>\n",
              "</table>\n",
              "</div>"
            ],
            "text/plain": [
              "    drinks_socially  drinks_not_at_all  ...  drinks_very_often  drinks_desperately\n",
              " 1                1                  0  ...                  0                   0\n",
              " 2                0                  1  ...                  0                   0\n",
              " 3                0                  0  ...                  0                   0\n",
              " 4                0                  0  ...                  0                   0\n",
              " 5                0                  0  ...                  0                   0\n",
              " 6                0                  0  ...                  1                   0\n",
              " 7                0                  0  ...                  0                   1\n",
              "-1                0                  0  ...                  0                   0\n",
              "-2                0                  0  ...                  0                   0\n",
              "\n",
              "[9 rows x 7 columns]"
            ]
          },
          "metadata": {
            "tags": []
          },
          "execution_count": 24
        }
      ]
    },
    {
      "cell_type": "markdown",
      "metadata": {
        "id": "r28M6q1BVIUP"
      },
      "source": [
        "### Binary Encoder"
      ]
    },
    {
      "cell_type": "code",
      "metadata": {
        "id": "J9SKSr0GXuba"
      },
      "source": [
        "from category_encoders import BinaryEncoder "
      ],
      "execution_count": null,
      "outputs": []
    },
    {
      "cell_type": "code",
      "metadata": {
        "id": "mBnE7ZayXuei"
      },
      "source": [
        "binary_encoder = BinaryEncoder()"
      ],
      "execution_count": null,
      "outputs": []
    },
    {
      "cell_type": "code",
      "metadata": {
        "id": "51LIypweXuhW",
        "colab": {
          "base_uri": "https://localhost:8080/",
          "height": 497
        },
        "outputId": "f6a6e8da-6a7b-499b-e249-0744ac614fc8"
      },
      "source": [
        "binary_encoder.fit_transform(df[[col]])"
      ],
      "execution_count": null,
      "outputs": [
        {
          "output_type": "stream",
          "text": [
            "/usr/local/lib/python3.7/dist-packages/category_encoders/utils.py:21: FutureWarning:\n",
            "\n",
            "is_categorical is deprecated and will be removed in a future version.  Use is_categorical_dtype instead\n",
            "\n"
          ],
          "name": "stderr"
        },
        {
          "output_type": "execute_result",
          "data": {
            "text/html": [
              "<div>\n",
              "<style scoped>\n",
              "    .dataframe tbody tr th:only-of-type {\n",
              "        vertical-align: middle;\n",
              "    }\n",
              "\n",
              "    .dataframe tbody tr th {\n",
              "        vertical-align: top;\n",
              "    }\n",
              "\n",
              "    .dataframe thead th {\n",
              "        text-align: right;\n",
              "    }\n",
              "</style>\n",
              "<table border=\"1\" class=\"dataframe\">\n",
              "  <thead>\n",
              "    <tr style=\"text-align: right;\">\n",
              "      <th></th>\n",
              "      <th>drinks_0</th>\n",
              "      <th>drinks_1</th>\n",
              "      <th>drinks_2</th>\n",
              "      <th>drinks_3</th>\n",
              "    </tr>\n",
              "  </thead>\n",
              "  <tbody>\n",
              "    <tr>\n",
              "      <th>1</th>\n",
              "      <td>0</td>\n",
              "      <td>0</td>\n",
              "      <td>0</td>\n",
              "      <td>1</td>\n",
              "    </tr>\n",
              "    <tr>\n",
              "      <th>4</th>\n",
              "      <td>0</td>\n",
              "      <td>0</td>\n",
              "      <td>0</td>\n",
              "      <td>1</td>\n",
              "    </tr>\n",
              "    <tr>\n",
              "      <th>6</th>\n",
              "      <td>0</td>\n",
              "      <td>0</td>\n",
              "      <td>0</td>\n",
              "      <td>1</td>\n",
              "    </tr>\n",
              "    <tr>\n",
              "      <th>8</th>\n",
              "      <td>0</td>\n",
              "      <td>0</td>\n",
              "      <td>0</td>\n",
              "      <td>1</td>\n",
              "    </tr>\n",
              "    <tr>\n",
              "      <th>10</th>\n",
              "      <td>0</td>\n",
              "      <td>0</td>\n",
              "      <td>1</td>\n",
              "      <td>0</td>\n",
              "    </tr>\n",
              "    <tr>\n",
              "      <th>...</th>\n",
              "      <td>...</td>\n",
              "      <td>...</td>\n",
              "      <td>...</td>\n",
              "      <td>...</td>\n",
              "    </tr>\n",
              "    <tr>\n",
              "      <th>59940</th>\n",
              "      <td>0</td>\n",
              "      <td>0</td>\n",
              "      <td>0</td>\n",
              "      <td>1</td>\n",
              "    </tr>\n",
              "    <tr>\n",
              "      <th>59943</th>\n",
              "      <td>0</td>\n",
              "      <td>1</td>\n",
              "      <td>0</td>\n",
              "      <td>0</td>\n",
              "    </tr>\n",
              "    <tr>\n",
              "      <th>59944</th>\n",
              "      <td>0</td>\n",
              "      <td>0</td>\n",
              "      <td>1</td>\n",
              "      <td>0</td>\n",
              "    </tr>\n",
              "    <tr>\n",
              "      <th>59945</th>\n",
              "      <td>0</td>\n",
              "      <td>0</td>\n",
              "      <td>0</td>\n",
              "      <td>1</td>\n",
              "    </tr>\n",
              "    <tr>\n",
              "      <th>59946</th>\n",
              "      <td>0</td>\n",
              "      <td>0</td>\n",
              "      <td>0</td>\n",
              "      <td>1</td>\n",
              "    </tr>\n",
              "  </tbody>\n",
              "</table>\n",
              "<p>38809 rows × 4 columns</p>\n",
              "</div>"
            ],
            "text/plain": [
              "       drinks_0  drinks_1  drinks_2  drinks_3\n",
              "1             0         0         0         1\n",
              "4             0         0         0         1\n",
              "6             0         0         0         1\n",
              "8             0         0         0         1\n",
              "10            0         0         1         0\n",
              "...         ...       ...       ...       ...\n",
              "59940         0         0         0         1\n",
              "59943         0         1         0         0\n",
              "59944         0         0         1         0\n",
              "59945         0         0         0         1\n",
              "59946         0         0         0         1\n",
              "\n",
              "[38809 rows x 4 columns]"
            ]
          },
          "metadata": {
            "tags": []
          },
          "execution_count": 28
        }
      ]
    },
    {
      "cell_type": "code",
      "metadata": {
        "id": "QEOi5FuWXuk0",
        "colab": {
          "base_uri": "https://localhost:8080/",
          "height": 332
        },
        "outputId": "50b0c7ce-d7c5-4134-bbb8-5598e7465a01"
      },
      "source": [
        "binary_encoder.base_n_encoder.mapping[0]['mapping']"
      ],
      "execution_count": null,
      "outputs": [
        {
          "output_type": "execute_result",
          "data": {
            "text/html": [
              "<div>\n",
              "<style scoped>\n",
              "    .dataframe tbody tr th:only-of-type {\n",
              "        vertical-align: middle;\n",
              "    }\n",
              "\n",
              "    .dataframe tbody tr th {\n",
              "        vertical-align: top;\n",
              "    }\n",
              "\n",
              "    .dataframe thead th {\n",
              "        text-align: right;\n",
              "    }\n",
              "</style>\n",
              "<table border=\"1\" class=\"dataframe\">\n",
              "  <thead>\n",
              "    <tr style=\"text-align: right;\">\n",
              "      <th></th>\n",
              "      <th>drinks_0</th>\n",
              "      <th>drinks_1</th>\n",
              "      <th>drinks_2</th>\n",
              "      <th>drinks_3</th>\n",
              "    </tr>\n",
              "  </thead>\n",
              "  <tbody>\n",
              "    <tr>\n",
              "      <th>1</th>\n",
              "      <td>0</td>\n",
              "      <td>0</td>\n",
              "      <td>0</td>\n",
              "      <td>1</td>\n",
              "    </tr>\n",
              "    <tr>\n",
              "      <th>2</th>\n",
              "      <td>0</td>\n",
              "      <td>0</td>\n",
              "      <td>1</td>\n",
              "      <td>0</td>\n",
              "    </tr>\n",
              "    <tr>\n",
              "      <th>3</th>\n",
              "      <td>0</td>\n",
              "      <td>0</td>\n",
              "      <td>1</td>\n",
              "      <td>1</td>\n",
              "    </tr>\n",
              "    <tr>\n",
              "      <th>4</th>\n",
              "      <td>0</td>\n",
              "      <td>1</td>\n",
              "      <td>0</td>\n",
              "      <td>0</td>\n",
              "    </tr>\n",
              "    <tr>\n",
              "      <th>5</th>\n",
              "      <td>0</td>\n",
              "      <td>1</td>\n",
              "      <td>0</td>\n",
              "      <td>1</td>\n",
              "    </tr>\n",
              "    <tr>\n",
              "      <th>6</th>\n",
              "      <td>0</td>\n",
              "      <td>1</td>\n",
              "      <td>1</td>\n",
              "      <td>0</td>\n",
              "    </tr>\n",
              "    <tr>\n",
              "      <th>7</th>\n",
              "      <td>0</td>\n",
              "      <td>1</td>\n",
              "      <td>1</td>\n",
              "      <td>1</td>\n",
              "    </tr>\n",
              "    <tr>\n",
              "      <th>-1</th>\n",
              "      <td>0</td>\n",
              "      <td>0</td>\n",
              "      <td>0</td>\n",
              "      <td>0</td>\n",
              "    </tr>\n",
              "    <tr>\n",
              "      <th>-2</th>\n",
              "      <td>0</td>\n",
              "      <td>0</td>\n",
              "      <td>0</td>\n",
              "      <td>0</td>\n",
              "    </tr>\n",
              "  </tbody>\n",
              "</table>\n",
              "</div>"
            ],
            "text/plain": [
              "    drinks_0  drinks_1  drinks_2  drinks_3\n",
              " 1         0         0         0         1\n",
              " 2         0         0         1         0\n",
              " 3         0         0         1         1\n",
              " 4         0         1         0         0\n",
              " 5         0         1         0         1\n",
              " 6         0         1         1         0\n",
              " 7         0         1         1         1\n",
              "-1         0         0         0         0\n",
              "-2         0         0         0         0"
            ]
          },
          "metadata": {
            "tags": []
          },
          "execution_count": 33
        }
      ]
    },
    {
      "cell_type": "markdown",
      "metadata": {
        "id": "isF60gocgLlE"
      },
      "source": [
        "### Frequency or Count Encoder"
      ]
    },
    {
      "cell_type": "code",
      "metadata": {
        "id": "C7WZvDPsXv8y"
      },
      "source": [
        "from category_encoders import CountEncoder"
      ],
      "execution_count": null,
      "outputs": []
    },
    {
      "cell_type": "code",
      "metadata": {
        "id": "jRrModnNXv_1"
      },
      "source": [
        "count_encoder = CountEncoder(normalize=True)"
      ],
      "execution_count": null,
      "outputs": []
    },
    {
      "cell_type": "code",
      "metadata": {
        "id": "Og-pdtW5XwC7",
        "colab": {
          "base_uri": "https://localhost:8080/",
          "height": 424
        },
        "outputId": "53eb3f6a-8a9c-438c-b0d9-526175c4756f"
      },
      "source": [
        "count_encoder.fit_transform(df[[col]])"
      ],
      "execution_count": null,
      "outputs": [
        {
          "output_type": "execute_result",
          "data": {
            "text/html": [
              "<div>\n",
              "<style scoped>\n",
              "    .dataframe tbody tr th:only-of-type {\n",
              "        vertical-align: middle;\n",
              "    }\n",
              "\n",
              "    .dataframe tbody tr th {\n",
              "        vertical-align: top;\n",
              "    }\n",
              "\n",
              "    .dataframe thead th {\n",
              "        text-align: right;\n",
              "    }\n",
              "</style>\n",
              "<table border=\"1\" class=\"dataframe\">\n",
              "  <thead>\n",
              "    <tr style=\"text-align: right;\">\n",
              "      <th></th>\n",
              "      <th>drinks</th>\n",
              "    </tr>\n",
              "  </thead>\n",
              "  <tbody>\n",
              "    <tr>\n",
              "      <th>1</th>\n",
              "      <td>0.709140</td>\n",
              "    </tr>\n",
              "    <tr>\n",
              "      <th>4</th>\n",
              "      <td>0.709140</td>\n",
              "    </tr>\n",
              "    <tr>\n",
              "      <th>6</th>\n",
              "      <td>0.709140</td>\n",
              "    </tr>\n",
              "    <tr>\n",
              "      <th>8</th>\n",
              "      <td>0.709140</td>\n",
              "    </tr>\n",
              "    <tr>\n",
              "      <th>10</th>\n",
              "      <td>0.055580</td>\n",
              "    </tr>\n",
              "    <tr>\n",
              "      <th>...</th>\n",
              "      <td>...</td>\n",
              "    </tr>\n",
              "    <tr>\n",
              "      <th>59940</th>\n",
              "      <td>0.709140</td>\n",
              "    </tr>\n",
              "    <tr>\n",
              "      <th>59943</th>\n",
              "      <td>0.087944</td>\n",
              "    </tr>\n",
              "    <tr>\n",
              "      <th>59944</th>\n",
              "      <td>0.055580</td>\n",
              "    </tr>\n",
              "    <tr>\n",
              "      <th>59945</th>\n",
              "      <td>0.709140</td>\n",
              "    </tr>\n",
              "    <tr>\n",
              "      <th>59946</th>\n",
              "      <td>0.709140</td>\n",
              "    </tr>\n",
              "  </tbody>\n",
              "</table>\n",
              "<p>38809 rows × 1 columns</p>\n",
              "</div>"
            ],
            "text/plain": [
              "         drinks\n",
              "1      0.709140\n",
              "4      0.709140\n",
              "6      0.709140\n",
              "8      0.709140\n",
              "10     0.055580\n",
              "...         ...\n",
              "59940  0.709140\n",
              "59943  0.087944\n",
              "59944  0.055580\n",
              "59945  0.709140\n",
              "59946  0.709140\n",
              "\n",
              "[38809 rows x 1 columns]"
            ]
          },
          "metadata": {
            "tags": []
          },
          "execution_count": 36
        }
      ]
    },
    {
      "cell_type": "code",
      "metadata": {
        "id": "-xQdiOXCMJv4"
      },
      "source": [
        "count_encoder = CountEncoder(combine_min_nan_groups=True, min_group_size=500, min_group_name='otros', normalize=True)"
      ],
      "execution_count": null,
      "outputs": []
    },
    {
      "cell_type": "code",
      "metadata": {
        "id": "TmmxnrG9M4Ps",
        "colab": {
          "base_uri": "https://localhost:8080/",
          "height": 424
        },
        "outputId": "66f897aa-f4dd-4609-902f-661e7cfc0ebb"
      },
      "source": [
        " count_encoder.fit_transform(df[[col]])"
      ],
      "execution_count": null,
      "outputs": [
        {
          "output_type": "execute_result",
          "data": {
            "text/html": [
              "<div>\n",
              "<style scoped>\n",
              "    .dataframe tbody tr th:only-of-type {\n",
              "        vertical-align: middle;\n",
              "    }\n",
              "\n",
              "    .dataframe tbody tr th {\n",
              "        vertical-align: top;\n",
              "    }\n",
              "\n",
              "    .dataframe thead th {\n",
              "        text-align: right;\n",
              "    }\n",
              "</style>\n",
              "<table border=\"1\" class=\"dataframe\">\n",
              "  <thead>\n",
              "    <tr style=\"text-align: right;\">\n",
              "      <th></th>\n",
              "      <th>drinks</th>\n",
              "    </tr>\n",
              "  </thead>\n",
              "  <tbody>\n",
              "    <tr>\n",
              "      <th>1</th>\n",
              "      <td>0.709140</td>\n",
              "    </tr>\n",
              "    <tr>\n",
              "      <th>4</th>\n",
              "      <td>0.709140</td>\n",
              "    </tr>\n",
              "    <tr>\n",
              "      <th>6</th>\n",
              "      <td>0.709140</td>\n",
              "    </tr>\n",
              "    <tr>\n",
              "      <th>8</th>\n",
              "      <td>0.709140</td>\n",
              "    </tr>\n",
              "    <tr>\n",
              "      <th>10</th>\n",
              "      <td>0.055580</td>\n",
              "    </tr>\n",
              "    <tr>\n",
              "      <th>...</th>\n",
              "      <td>...</td>\n",
              "    </tr>\n",
              "    <tr>\n",
              "      <th>59940</th>\n",
              "      <td>0.709140</td>\n",
              "    </tr>\n",
              "    <tr>\n",
              "      <th>59943</th>\n",
              "      <td>0.087944</td>\n",
              "    </tr>\n",
              "    <tr>\n",
              "      <th>59944</th>\n",
              "      <td>0.055580</td>\n",
              "    </tr>\n",
              "    <tr>\n",
              "      <th>59945</th>\n",
              "      <td>0.709140</td>\n",
              "    </tr>\n",
              "    <tr>\n",
              "      <th>59946</th>\n",
              "      <td>0.709140</td>\n",
              "    </tr>\n",
              "  </tbody>\n",
              "</table>\n",
              "<p>38809 rows × 1 columns</p>\n",
              "</div>"
            ],
            "text/plain": [
              "         drinks\n",
              "1      0.709140\n",
              "4      0.709140\n",
              "6      0.709140\n",
              "8      0.709140\n",
              "10     0.055580\n",
              "...         ...\n",
              "59940  0.709140\n",
              "59943  0.087944\n",
              "59944  0.055580\n",
              "59945  0.709140\n",
              "59946  0.709140\n",
              "\n",
              "[38809 rows x 1 columns]"
            ]
          },
          "metadata": {
            "tags": []
          },
          "execution_count": 39
        }
      ]
    },
    {
      "cell_type": "markdown",
      "metadata": {
        "id": "u3OwsExn4FC6"
      },
      "source": [
        "Intentemos utilizando las funciones de combinacion de grupos"
      ]
    },
    {
      "cell_type": "code",
      "metadata": {
        "id": "a5_G7fyVXxZj"
      },
      "source": [
        ""
      ],
      "execution_count": null,
      "outputs": []
    },
    {
      "cell_type": "code",
      "metadata": {
        "id": "fwltS5m8Xxcf"
      },
      "source": [
        ""
      ],
      "execution_count": null,
      "outputs": []
    },
    {
      "cell_type": "code",
      "metadata": {
        "id": "S-5UiH58XxfW"
      },
      "source": [
        ""
      ],
      "execution_count": null,
      "outputs": []
    },
    {
      "cell_type": "markdown",
      "metadata": {
        "id": "pyS3hX38VOw-"
      },
      "source": [
        "### Ordinal Encoder"
      ]
    },
    {
      "cell_type": "code",
      "metadata": {
        "id": "4IzsvKbQXy4m"
      },
      "source": [
        "from category_encoders import OrdinalEncoder"
      ],
      "execution_count": null,
      "outputs": []
    },
    {
      "cell_type": "code",
      "metadata": {
        "id": "MJcZPYbNXy73"
      },
      "source": [
        "ordinal_encoders = OrdinalEncoder()"
      ],
      "execution_count": null,
      "outputs": []
    },
    {
      "cell_type": "code",
      "metadata": {
        "id": "n-CuoSmMXy_l",
        "colab": {
          "base_uri": "https://localhost:8080/",
          "height": 424
        },
        "outputId": "16b5b65b-0866-410c-90e5-877d784f2d51"
      },
      "source": [
        "ordinal_encoders.fit_transform(df[[col]])"
      ],
      "execution_count": null,
      "outputs": [
        {
          "output_type": "execute_result",
          "data": {
            "text/html": [
              "<div>\n",
              "<style scoped>\n",
              "    .dataframe tbody tr th:only-of-type {\n",
              "        vertical-align: middle;\n",
              "    }\n",
              "\n",
              "    .dataframe tbody tr th {\n",
              "        vertical-align: top;\n",
              "    }\n",
              "\n",
              "    .dataframe thead th {\n",
              "        text-align: right;\n",
              "    }\n",
              "</style>\n",
              "<table border=\"1\" class=\"dataframe\">\n",
              "  <thead>\n",
              "    <tr style=\"text-align: right;\">\n",
              "      <th></th>\n",
              "      <th>drinks</th>\n",
              "    </tr>\n",
              "  </thead>\n",
              "  <tbody>\n",
              "    <tr>\n",
              "      <th>1</th>\n",
              "      <td>1</td>\n",
              "    </tr>\n",
              "    <tr>\n",
              "      <th>4</th>\n",
              "      <td>1</td>\n",
              "    </tr>\n",
              "    <tr>\n",
              "      <th>6</th>\n",
              "      <td>1</td>\n",
              "    </tr>\n",
              "    <tr>\n",
              "      <th>8</th>\n",
              "      <td>1</td>\n",
              "    </tr>\n",
              "    <tr>\n",
              "      <th>10</th>\n",
              "      <td>2</td>\n",
              "    </tr>\n",
              "    <tr>\n",
              "      <th>...</th>\n",
              "      <td>...</td>\n",
              "    </tr>\n",
              "    <tr>\n",
              "      <th>59940</th>\n",
              "      <td>1</td>\n",
              "    </tr>\n",
              "    <tr>\n",
              "      <th>59943</th>\n",
              "      <td>4</td>\n",
              "    </tr>\n",
              "    <tr>\n",
              "      <th>59944</th>\n",
              "      <td>2</td>\n",
              "    </tr>\n",
              "    <tr>\n",
              "      <th>59945</th>\n",
              "      <td>1</td>\n",
              "    </tr>\n",
              "    <tr>\n",
              "      <th>59946</th>\n",
              "      <td>1</td>\n",
              "    </tr>\n",
              "  </tbody>\n",
              "</table>\n",
              "<p>38809 rows × 1 columns</p>\n",
              "</div>"
            ],
            "text/plain": [
              "       drinks\n",
              "1           1\n",
              "4           1\n",
              "6           1\n",
              "8           1\n",
              "10          2\n",
              "...       ...\n",
              "59940       1\n",
              "59943       4\n",
              "59944       2\n",
              "59945       1\n",
              "59946       1\n",
              "\n",
              "[38809 rows x 1 columns]"
            ]
          },
          "metadata": {
            "tags": []
          },
          "execution_count": 43
        }
      ]
    },
    {
      "cell_type": "code",
      "metadata": {
        "id": "-sh7kDdtXzDF",
        "colab": {
          "base_uri": "https://localhost:8080/"
        },
        "outputId": "e1d62411-0a22-4f97-afc9-0adf3bb78221"
      },
      "source": [
        "ordinal_encoders.mapping[0]['mapping']"
      ],
      "execution_count": null,
      "outputs": [
        {
          "output_type": "execute_result",
          "data": {
            "text/plain": [
              "socially          1\n",
              "not_at_all        2\n",
              "rarely            3\n",
              "often             4\n",
              "drinks_missing    5\n",
              "very_often        6\n",
              "desperately       7\n",
              "NaN              -2\n",
              "dtype: int64"
            ]
          },
          "metadata": {
            "tags": []
          },
          "execution_count": 44
        }
      ]
    },
    {
      "cell_type": "markdown",
      "metadata": {
        "id": "eHZC45GYmrU4"
      },
      "source": [
        "###Feature Hashing"
      ]
    },
    {
      "cell_type": "code",
      "metadata": {
        "id": "ZJept757X3_W"
      },
      "source": [
        "from sklearn.feature_extraction import FeatureHasher "
      ],
      "execution_count": null,
      "outputs": []
    },
    {
      "cell_type": "code",
      "metadata": {
        "id": "WJ1NIgzHX4CY"
      },
      "source": [
        "col = 'where_town'"
      ],
      "execution_count": null,
      "outputs": []
    },
    {
      "cell_type": "code",
      "metadata": {
        "id": "4oGoKyENX4FM",
        "colab": {
          "base_uri": "https://localhost:8080/",
          "height": 172
        },
        "outputId": "93090e4e-b57e-442c-83af-580b710d927c"
      },
      "source": [
        "describe()"
      ],
      "execution_count": null,
      "outputs": [
        {
          "output_type": "error",
          "ename": "NameError",
          "evalue": "ignored",
          "traceback": [
            "\u001b[0;31m---------------------------------------------------------------------------\u001b[0m",
            "\u001b[0;31mNameError\u001b[0m                                 Traceback (most recent call last)",
            "\u001b[0;32m<ipython-input-47-06611a19269c>\u001b[0m in \u001b[0;36m<module>\u001b[0;34m()\u001b[0m\n\u001b[0;32m----> 1\u001b[0;31m \u001b[0mdescribe\u001b[0m\u001b[0;34m(\u001b[0m\u001b[0;34m)\u001b[0m\u001b[0;34m\u001b[0m\u001b[0;34m\u001b[0m\u001b[0m\n\u001b[0m",
            "\u001b[0;31mNameError\u001b[0m: name 'describe' is not defined"
          ]
        }
      ]
    },
    {
      "cell_type": "code",
      "metadata": {
        "id": "kO56_q6bX4IR",
        "colab": {
          "base_uri": "https://localhost:8080/"
        },
        "outputId": "0ecf84c0-0081-414f-8317-4dca31aae9d4"
      },
      "source": [
        "df[col].head()"
      ],
      "execution_count": null,
      "outputs": [
        {
          "output_type": "execute_result",
          "data": {
            "text/plain": [
              "1     south_san_francisco\n",
              "4                berkeley\n",
              "6           san_francisco\n",
              "8           san_francisco\n",
              "10              san_mateo\n",
              "Name: where_town, dtype: object"
            ]
          },
          "metadata": {
            "tags": []
          },
          "execution_count": 48
        }
      ]
    },
    {
      "cell_type": "code",
      "metadata": {
        "id": "5F0R9bqrX4K1"
      },
      "source": [
        "hash_enc = FeatureHasher(n_features=8, input_type='string', alternate_sign=True)"
      ],
      "execution_count": null,
      "outputs": []
    },
    {
      "cell_type": "code",
      "metadata": {
        "id": "Zq5i86hOX4Nu"
      },
      "source": [
        "hashed_features = hash_enc.fit_transform(df[col])"
      ],
      "execution_count": null,
      "outputs": []
    },
    {
      "cell_type": "code",
      "metadata": {
        "id": "n1qwGgXqX4Ql",
        "colab": {
          "base_uri": "https://localhost:8080/"
        },
        "outputId": "c99826ad-6da3-4631-ae4f-6a717d501a32"
      },
      "source": [
        "hashed_features.toarray()"
      ],
      "execution_count": null,
      "outputs": [
        {
          "output_type": "execute_result",
          "data": {
            "text/plain": [
              "array([[ 1., -1.,  2., ..., -2.,  0., -3.],\n",
              "       [ 0.,  1.,  0., ..., -1.,  1.,  2.],\n",
              "       [ 0., -1.,  2., ..., -1.,  0., -2.],\n",
              "       ...,\n",
              "       [ 1., -1.,  2., ..., -2.,  0., -3.],\n",
              "       [ 0., -1.,  2., ..., -1.,  0., -2.],\n",
              "       [ 0., -1.,  2., ..., -1.,  0., -2.]])"
            ]
          },
          "metadata": {
            "tags": []
          },
          "execution_count": 51
        }
      ]
    },
    {
      "cell_type": "code",
      "metadata": {
        "id": "FNTtsiHoX4TZ"
      },
      "source": [
        "np_hashed = np.array(hashed_features.todense())"
      ],
      "execution_count": null,
      "outputs": []
    },
    {
      "cell_type": "code",
      "metadata": {
        "id": "PQ-EyheAX4WZ",
        "colab": {
          "base_uri": "https://localhost:8080/"
        },
        "outputId": "a434d3d3-099d-402d-a471-c5299bf772dc"
      },
      "source": [
        "np.unique(np_hashed, axis=0)"
      ],
      "execution_count": null,
      "outputs": [
        {
          "output_type": "execute_result",
          "data": {
            "text/plain": [
              "array([[ 0., -2.,  2.,  1.,  0., -2., -1.,  0.],\n",
              "       [ 0., -1.,  0.,  4.,  0., -1.,  1.,  1.],\n",
              "       [ 0., -1.,  1.,  0., -1., -3.,  0.,  1.],\n",
              "       [ 0., -1.,  1.,  1.,  1., -1.,  2.,  0.],\n",
              "       [ 0., -1.,  2.,  3., -2., -1.,  0., -2.],\n",
              "       [ 0.,  0.,  0.,  0.,  1., -1.,  0.,  1.],\n",
              "       [ 0.,  0.,  0.,  1.,  0., -1., -1.,  1.],\n",
              "       [ 0.,  0.,  0.,  2.,  0., -2.,  0.,  0.],\n",
              "       [ 0.,  0.,  1., -1.,  0., -1.,  0.,  1.],\n",
              "       [ 0.,  0.,  1.,  0., -1.,  0.,  0.,  0.],\n",
              "       [ 0.,  0.,  1.,  0.,  2.,  0.,  0.,  0.],\n",
              "       [ 0.,  0.,  1.,  0.,  5., -1.,  1.,  1.],\n",
              "       [ 0.,  0.,  1.,  3., -1.,  0.,  0.,  0.],\n",
              "       [ 0.,  0.,  2., -1.,  1.,  0.,  1.,  2.],\n",
              "       [ 0.,  0.,  2.,  0.,  0., -1.,  1.,  0.],\n",
              "       [ 0.,  0.,  2.,  0.,  2., -2., -1.,  0.],\n",
              "       [ 0.,  0.,  2.,  0.,  2.,  0.,  1.,  0.],\n",
              "       [ 0.,  0.,  2.,  1.,  0., -1.,  1.,  0.],\n",
              "       [ 0.,  0.,  2.,  1.,  0.,  0.,  0.,  0.],\n",
              "       [ 0.,  0.,  2.,  2.,  0., -1., -1., -1.],\n",
              "       [ 0.,  0.,  2.,  2.,  0.,  0.,  0., -2.],\n",
              "       [ 0.,  0.,  2.,  2.,  0.,  0.,  0., -1.],\n",
              "       [ 0.,  0.,  2.,  2.,  2.,  0., -1.,  0.],\n",
              "       [ 0.,  0.,  2.,  5.,  1., -2.,  1.,  0.],\n",
              "       [ 0.,  0.,  3.,  1.,  2.,  0.,  0.,  1.],\n",
              "       [ 0.,  1.,  0., -1.,  3., -1.,  1.,  3.],\n",
              "       [ 0.,  1.,  0.,  0.,  0., -1.,  0.,  1.],\n",
              "       [ 0.,  1.,  0.,  0.,  1., -1.,  1.,  2.],\n",
              "       [ 0.,  1.,  0.,  1.,  0.,  0.,  0.,  1.],\n",
              "       [ 0.,  1.,  0.,  1.,  1., -1.,  0.,  2.],\n",
              "       [ 0.,  1.,  1.,  0.,  3., -2.,  0.,  1.],\n",
              "       [ 0.,  1.,  1.,  1.,  0., -1.,  0.,  1.],\n",
              "       [ 0.,  1.,  1.,  1.,  1.,  0.,  0.,  0.],\n",
              "       [ 0.,  1.,  1.,  2., -1., -1.,  0.,  0.],\n",
              "       [ 0.,  1.,  1.,  2., -1.,  0.,  0., -1.],\n",
              "       [ 0.,  1.,  1.,  2.,  1.,  0., -1.,  0.],\n",
              "       [ 0.,  1.,  2.,  2.,  1.,  0.,  0.,  2.],\n",
              "       [ 0.,  1.,  2.,  3., -1.,  0.,  0.,  0.],\n",
              "       [ 0.,  1.,  2.,  3.,  0., -1.,  0.,  0.],\n",
              "       [ 0.,  1.,  3.,  2.,  0.,  0.,  0.,  0.],\n",
              "       [ 0.,  2.,  0.,  1., -1., -1.,  0.,  3.],\n",
              "       [ 1., -1.,  1.,  0., -1., -2.,  0.,  1.],\n",
              "       [ 1., -1.,  1.,  0.,  0.,  0.,  0.,  1.],\n",
              "       [ 1., -1.,  2.,  4., -2., -2.,  0., -3.],\n",
              "       [ 1.,  0.,  0.,  0.,  1., -1.,  0.,  1.],\n",
              "       [ 1.,  0.,  2.,  0.,  1., -1.,  0., -2.],\n",
              "       [ 1.,  1.,  0.,  0.,  1., -2.,  0.,  1.],\n",
              "       [ 1.,  1.,  1.,  2., -2., -1.,  0., -1.],\n",
              "       [ 1.,  2.,  0.,  1.,  0., -3.,  0.,  4.],\n",
              "       [ 1.,  2.,  1.,  0.,  1.,  0., -1., -2.]])"
            ]
          },
          "metadata": {
            "tags": []
          },
          "execution_count": 53
        }
      ]
    },
    {
      "cell_type": "code",
      "metadata": {
        "id": "APeruSBPX4ZU"
      },
      "source": [
        "np.unique()"
      ],
      "execution_count": null,
      "outputs": []
    },
    {
      "cell_type": "code",
      "metadata": {
        "id": "FyEp5dIQccuy"
      },
      "source": [
        "from sys import getsizeof"
      ],
      "execution_count": null,
      "outputs": []
    },
    {
      "cell_type": "code",
      "metadata": {
        "id": "KAweUn-CccyB",
        "colab": {
          "base_uri": "https://localhost:8080/"
        },
        "outputId": "2d059aa3-055c-4bfd-cbc3-64e5f6f30056"
      },
      "source": [
        "print(getsizeof(df[col]))\n",
        "print(getsizeof(hashed_features))"
      ],
      "execution_count": null,
      "outputs": [
        {
          "output_type": "stream",
          "text": [
            "2944494\n",
            "64\n"
          ],
          "name": "stdout"
        }
      ]
    },
    {
      "cell_type": "code",
      "metadata": {
        "id": "xfBoCLlNX4qx"
      },
      "source": [
        ""
      ],
      "execution_count": null,
      "outputs": []
    },
    {
      "cell_type": "markdown",
      "metadata": {
        "id": "XwPydEygVR9-"
      },
      "source": [
        "## Contrast Encoders"
      ]
    },
    {
      "cell_type": "markdown",
      "metadata": {
        "id": "_DT_jGMCXvnz"
      },
      "source": [
        "### Diferencia entre One-hot Encoding y Dummy Coding"
      ]
    },
    {
      "cell_type": "code",
      "metadata": {
        "id": "Ak7cow2KX6kT"
      },
      "source": [
        "one_hod_df = pd.get_dummies(df_test, prefix=['city'])"
      ],
      "execution_count": null,
      "outputs": []
    },
    {
      "cell_type": "code",
      "metadata": {
        "id": "92GslRUUX6no",
        "colab": {
          "base_uri": "https://localhost:8080/",
          "height": 332
        },
        "outputId": "3035517e-a48f-4e1e-b8eb-af84beb5b0d6"
      },
      "source": [
        "one_hod_df"
      ],
      "execution_count": null,
      "outputs": [
        {
          "output_type": "execute_result",
          "data": {
            "text/html": [
              "<div>\n",
              "<style scoped>\n",
              "    .dataframe tbody tr th:only-of-type {\n",
              "        vertical-align: middle;\n",
              "    }\n",
              "\n",
              "    .dataframe tbody tr th {\n",
              "        vertical-align: top;\n",
              "    }\n",
              "\n",
              "    .dataframe thead th {\n",
              "        text-align: right;\n",
              "    }\n",
              "</style>\n",
              "<table border=\"1\" class=\"dataframe\">\n",
              "  <thead>\n",
              "    <tr style=\"text-align: right;\">\n",
              "      <th></th>\n",
              "      <th>Rent</th>\n",
              "      <th>city_NYC</th>\n",
              "      <th>city_SF</th>\n",
              "      <th>city_Seattle</th>\n",
              "    </tr>\n",
              "  </thead>\n",
              "  <tbody>\n",
              "    <tr>\n",
              "      <th>0</th>\n",
              "      <td>3999</td>\n",
              "      <td>0</td>\n",
              "      <td>1</td>\n",
              "      <td>0</td>\n",
              "    </tr>\n",
              "    <tr>\n",
              "      <th>1</th>\n",
              "      <td>4000</td>\n",
              "      <td>0</td>\n",
              "      <td>1</td>\n",
              "      <td>0</td>\n",
              "    </tr>\n",
              "    <tr>\n",
              "      <th>2</th>\n",
              "      <td>4001</td>\n",
              "      <td>0</td>\n",
              "      <td>1</td>\n",
              "      <td>0</td>\n",
              "    </tr>\n",
              "    <tr>\n",
              "      <th>3</th>\n",
              "      <td>3499</td>\n",
              "      <td>1</td>\n",
              "      <td>0</td>\n",
              "      <td>0</td>\n",
              "    </tr>\n",
              "    <tr>\n",
              "      <th>4</th>\n",
              "      <td>3500</td>\n",
              "      <td>1</td>\n",
              "      <td>0</td>\n",
              "      <td>0</td>\n",
              "    </tr>\n",
              "    <tr>\n",
              "      <th>5</th>\n",
              "      <td>3501</td>\n",
              "      <td>1</td>\n",
              "      <td>0</td>\n",
              "      <td>0</td>\n",
              "    </tr>\n",
              "    <tr>\n",
              "      <th>6</th>\n",
              "      <td>2499</td>\n",
              "      <td>0</td>\n",
              "      <td>0</td>\n",
              "      <td>1</td>\n",
              "    </tr>\n",
              "    <tr>\n",
              "      <th>7</th>\n",
              "      <td>2500</td>\n",
              "      <td>0</td>\n",
              "      <td>0</td>\n",
              "      <td>1</td>\n",
              "    </tr>\n",
              "    <tr>\n",
              "      <th>8</th>\n",
              "      <td>2501</td>\n",
              "      <td>0</td>\n",
              "      <td>0</td>\n",
              "      <td>1</td>\n",
              "    </tr>\n",
              "  </tbody>\n",
              "</table>\n",
              "</div>"
            ],
            "text/plain": [
              "   Rent  city_NYC  city_SF  city_Seattle\n",
              "0  3999         0        1             0\n",
              "1  4000         0        1             0\n",
              "2  4001         0        1             0\n",
              "3  3499         1        0             0\n",
              "4  3500         1        0             0\n",
              "5  3501         1        0             0\n",
              "6  2499         0        0             1\n",
              "7  2500         0        0             1\n",
              "8  2501         0        0             1"
            ]
          },
          "metadata": {
            "tags": []
          },
          "execution_count": 57
        }
      ]
    },
    {
      "cell_type": "code",
      "metadata": {
        "id": "GTGYs3y2X6rB",
        "colab": {
          "base_uri": "https://localhost:8080/",
          "height": 143
        },
        "outputId": "03b446cf-7227-47e2-caf4-5f91fc10d573"
      },
      "source": [
        "one_hod_df[['city_NYC', 'city_SF', 'city_Seattle']].drop_duplicates()"
      ],
      "execution_count": null,
      "outputs": [
        {
          "output_type": "execute_result",
          "data": {
            "text/html": [
              "<div>\n",
              "<style scoped>\n",
              "    .dataframe tbody tr th:only-of-type {\n",
              "        vertical-align: middle;\n",
              "    }\n",
              "\n",
              "    .dataframe tbody tr th {\n",
              "        vertical-align: top;\n",
              "    }\n",
              "\n",
              "    .dataframe thead th {\n",
              "        text-align: right;\n",
              "    }\n",
              "</style>\n",
              "<table border=\"1\" class=\"dataframe\">\n",
              "  <thead>\n",
              "    <tr style=\"text-align: right;\">\n",
              "      <th></th>\n",
              "      <th>city_NYC</th>\n",
              "      <th>city_SF</th>\n",
              "      <th>city_Seattle</th>\n",
              "    </tr>\n",
              "  </thead>\n",
              "  <tbody>\n",
              "    <tr>\n",
              "      <th>0</th>\n",
              "      <td>0</td>\n",
              "      <td>1</td>\n",
              "      <td>0</td>\n",
              "    </tr>\n",
              "    <tr>\n",
              "      <th>3</th>\n",
              "      <td>1</td>\n",
              "      <td>0</td>\n",
              "      <td>0</td>\n",
              "    </tr>\n",
              "    <tr>\n",
              "      <th>6</th>\n",
              "      <td>0</td>\n",
              "      <td>0</td>\n",
              "      <td>1</td>\n",
              "    </tr>\n",
              "  </tbody>\n",
              "</table>\n",
              "</div>"
            ],
            "text/plain": [
              "   city_NYC  city_SF  city_Seattle\n",
              "0         0        1             0\n",
              "3         1        0             0\n",
              "6         0        0             1"
            ]
          },
          "metadata": {
            "tags": []
          },
          "execution_count": 59
        }
      ]
    },
    {
      "cell_type": "code",
      "metadata": {
        "id": "fUINT8B9X6t4"
      },
      "source": [
        "from sklearn import linear_model"
      ],
      "execution_count": null,
      "outputs": []
    },
    {
      "cell_type": "code",
      "metadata": {
        "id": "FzFd2g_jX6wz",
        "colab": {
          "base_uri": "https://localhost:8080/"
        },
        "outputId": "4fac9dc7-645a-417b-91d7-aed616841c96"
      },
      "source": [
        "model = linear_model.LinearRegression()\n",
        "model.fit(one_hod_df[['city_NYC', 'city_SF', 'city_Seattle']], one_hod_df['Rent'])"
      ],
      "execution_count": null,
      "outputs": [
        {
          "output_type": "execute_result",
          "data": {
            "text/plain": [
              "LinearRegression(copy_X=True, fit_intercept=True, n_jobs=None, normalize=False)"
            ]
          },
          "metadata": {
            "tags": []
          },
          "execution_count": 62
        }
      ]
    },
    {
      "cell_type": "code",
      "metadata": {
        "id": "rpzIDs9rX606",
        "colab": {
          "base_uri": "https://localhost:8080/"
        },
        "outputId": "851378d7-904d-4554-9905-556b13ecd78b"
      },
      "source": [
        "print(model.coef_)\n",
        "print(model.intercept_)"
      ],
      "execution_count": null,
      "outputs": [
        {
          "output_type": "stream",
          "text": [
            "[ 166.66666667  666.66666667 -833.33333333]\n",
            "3333.3333333333335\n"
          ],
          "name": "stdout"
        }
      ]
    },
    {
      "cell_type": "code",
      "metadata": {
        "id": "F2y9hO1HiNKI",
        "colab": {
          "base_uri": "https://localhost:8080/"
        },
        "outputId": "c9923ff1-5699-43c9-e671-323d4d4f23d9"
      },
      "source": [
        "print(df_test['Rent'].mean())\n",
        "print(df_test.groupby('City').mean())"
      ],
      "execution_count": null,
      "outputs": [
        {
          "output_type": "stream",
          "text": [
            "3333.3333333333335\n",
            "         Rent\n",
            "City         \n",
            "NYC      3500\n",
            "SF       4000\n",
            "Seattle  2500\n"
          ],
          "name": "stdout"
        }
      ]
    },
    {
      "cell_type": "markdown",
      "metadata": {
        "id": "1XGeyZCA5Myt"
      },
      "source": [
        "Con la codificación one-hot, el término de intersección (intercepto) representa la media global de la variable objetivo: 'Renta', y cada uno de los coeficientes lineales representa que tanto difiere la renta media de esa ciudad respecto a la media global."
      ]
    },
    {
      "cell_type": "code",
      "metadata": {
        "id": "AVuLyQg9X8ff"
      },
      "source": [
        ""
      ],
      "execution_count": null,
      "outputs": []
    },
    {
      "cell_type": "code",
      "metadata": {
        "id": "jY6LNAeQX8i-"
      },
      "source": [
        ""
      ],
      "execution_count": null,
      "outputs": []
    },
    {
      "cell_type": "code",
      "metadata": {
        "id": "jt4pVtw1X8nx"
      },
      "source": [
        ""
      ],
      "execution_count": null,
      "outputs": []
    },
    {
      "cell_type": "code",
      "metadata": {
        "id": "1gJJr9V0X8zF"
      },
      "source": [
        ""
      ],
      "execution_count": null,
      "outputs": []
    },
    {
      "cell_type": "markdown",
      "metadata": {
        "id": "J8VZzozBn8B7"
      },
      "source": [
        "Ahora entrenemos el mismo modelo con dummy coding"
      ]
    },
    {
      "cell_type": "code",
      "metadata": {
        "id": "HK4yOactX965"
      },
      "source": [
        ""
      ],
      "execution_count": null,
      "outputs": []
    },
    {
      "cell_type": "code",
      "metadata": {
        "id": "NGvgyHzaX9-j"
      },
      "source": [
        ""
      ],
      "execution_count": null,
      "outputs": []
    },
    {
      "cell_type": "markdown",
      "metadata": {
        "id": "T4VIrXhe5rTm"
      },
      "source": [
        "Con codificación dummy, el coeficiente de sesgo (intercepto) representa el valor medio de la variable $y$ para la categoría de referencia, que en el ejemplo es la ciudad NYC. El coeficiente para la *i*-ésima característica es igual a la diferencia entre el valor medio de la respuesta para la i-ésima categoría y la media de la categoría de referencia."
      ]
    },
    {
      "cell_type": "code",
      "metadata": {
        "id": "Wp5OPxyLX_BT",
        "colab": {
          "base_uri": "https://localhost:8080/",
          "height": 209
        },
        "outputId": "a884dfab-2b45-49ec-9e66-de085b75711d"
      },
      "source": [
        "model.fit(dummy_df[['city_SF', 'city_Seattle']], dummy_df['Rent'])\n",
        "print(model.coef_)\n",
        "print(model.intercept_)"
      ],
      "execution_count": null,
      "outputs": [
        {
          "output_type": "error",
          "ename": "NameError",
          "evalue": "ignored",
          "traceback": [
            "\u001b[0;31m---------------------------------------------------------------------------\u001b[0m",
            "\u001b[0;31mNameError\u001b[0m                                 Traceback (most recent call last)",
            "\u001b[0;32m<ipython-input-65-fe4d4774ba0a>\u001b[0m in \u001b[0;36m<module>\u001b[0;34m()\u001b[0m\n\u001b[0;32m----> 1\u001b[0;31m \u001b[0mmodel\u001b[0m\u001b[0;34m.\u001b[0m\u001b[0mfit\u001b[0m\u001b[0;34m(\u001b[0m\u001b[0mdummy_df\u001b[0m\u001b[0;34m[\u001b[0m\u001b[0;34m[\u001b[0m\u001b[0;34m'city_SF'\u001b[0m\u001b[0;34m,\u001b[0m \u001b[0;34m'city_Seattle'\u001b[0m\u001b[0;34m]\u001b[0m\u001b[0;34m]\u001b[0m\u001b[0;34m,\u001b[0m \u001b[0mdummy_df\u001b[0m\u001b[0;34m[\u001b[0m\u001b[0;34m'Rent'\u001b[0m\u001b[0;34m]\u001b[0m\u001b[0;34m)\u001b[0m\u001b[0;34m\u001b[0m\u001b[0;34m\u001b[0m\u001b[0m\n\u001b[0m\u001b[1;32m      2\u001b[0m \u001b[0mprint\u001b[0m\u001b[0;34m(\u001b[0m\u001b[0mmodel\u001b[0m\u001b[0;34m.\u001b[0m\u001b[0mcoef_\u001b[0m\u001b[0;34m)\u001b[0m\u001b[0;34m\u001b[0m\u001b[0;34m\u001b[0m\u001b[0m\n\u001b[1;32m      3\u001b[0m \u001b[0mprint\u001b[0m\u001b[0;34m(\u001b[0m\u001b[0mmodel\u001b[0m\u001b[0;34m.\u001b[0m\u001b[0mintercept_\u001b[0m\u001b[0;34m)\u001b[0m\u001b[0;34m\u001b[0m\u001b[0;34m\u001b[0m\u001b[0m\n",
            "\u001b[0;31mNameError\u001b[0m: name 'dummy_df' is not defined"
          ]
        }
      ]
    },
    {
      "cell_type": "code",
      "metadata": {
        "id": "KmxnKmEgX_EZ"
      },
      "source": [
        ""
      ],
      "execution_count": null,
      "outputs": []
    },
    {
      "cell_type": "markdown",
      "metadata": {
        "id": "m8NekVw3VWPz"
      },
      "source": [
        "### Dummy Coding"
      ]
    },
    {
      "cell_type": "code",
      "metadata": {
        "id": "CCP5QaaIYCVd"
      },
      "source": [
        ""
      ],
      "execution_count": null,
      "outputs": []
    },
    {
      "cell_type": "code",
      "metadata": {
        "id": "wfEB1dHHYCZC"
      },
      "source": [
        ""
      ],
      "execution_count": null,
      "outputs": []
    },
    {
      "cell_type": "code",
      "metadata": {
        "id": "1O7jg8AOYCcQ"
      },
      "source": [
        ""
      ],
      "execution_count": null,
      "outputs": []
    },
    {
      "cell_type": "code",
      "metadata": {
        "id": "ZIH6sQtOYCfu"
      },
      "source": [
        ""
      ],
      "execution_count": null,
      "outputs": []
    },
    {
      "cell_type": "code",
      "metadata": {
        "id": "qGTZSJ96YCi4"
      },
      "source": [
        ""
      ],
      "execution_count": null,
      "outputs": []
    },
    {
      "cell_type": "code",
      "metadata": {
        "id": "-P99Y0DwYCmU"
      },
      "source": [
        ""
      ],
      "execution_count": null,
      "outputs": []
    },
    {
      "cell_type": "code",
      "metadata": {
        "id": "GUx89EN9YCpd"
      },
      "source": [
        ""
      ],
      "execution_count": null,
      "outputs": []
    },
    {
      "cell_type": "markdown",
      "metadata": {
        "id": "P8YzBWlcVZBk"
      },
      "source": [
        "\n",
        "### Sum (or Deviation) Coding"
      ]
    },
    {
      "cell_type": "code",
      "metadata": {
        "id": "XFWzHjnDYD2k"
      },
      "source": [
        ""
      ],
      "execution_count": null,
      "outputs": []
    },
    {
      "cell_type": "code",
      "metadata": {
        "id": "-42qwcNzYD6T"
      },
      "source": [
        ""
      ],
      "execution_count": null,
      "outputs": []
    },
    {
      "cell_type": "code",
      "metadata": {
        "id": "M81BjV0sYD-b"
      },
      "source": [
        ""
      ],
      "execution_count": null,
      "outputs": []
    },
    {
      "cell_type": "code",
      "metadata": {
        "id": "vp27h1sVYECp"
      },
      "source": [
        ""
      ],
      "execution_count": null,
      "outputs": []
    },
    {
      "cell_type": "markdown",
      "metadata": {
        "id": "hm-iIERMpG-N"
      },
      "source": [
        "Utilizando el ejemplo de prueba"
      ]
    },
    {
      "cell_type": "code",
      "metadata": {
        "id": "RAlF244-YFiH"
      },
      "source": [
        ""
      ],
      "execution_count": null,
      "outputs": []
    },
    {
      "cell_type": "code",
      "metadata": {
        "id": "gOCOGCnIYFmQ"
      },
      "source": [
        ""
      ],
      "execution_count": null,
      "outputs": []
    },
    {
      "cell_type": "code",
      "metadata": {
        "id": "WWlZl1ZZYFrA"
      },
      "source": [
        ""
      ],
      "execution_count": null,
      "outputs": []
    },
    {
      "cell_type": "code",
      "metadata": {
        "id": "NmQrkZ0VYFvC"
      },
      "source": [
        ""
      ],
      "execution_count": null,
      "outputs": []
    },
    {
      "cell_type": "code",
      "metadata": {
        "id": "iLwV3xzEYFyG"
      },
      "source": [
        ""
      ],
      "execution_count": null,
      "outputs": []
    },
    {
      "cell_type": "markdown",
      "metadata": {
        "id": "GRFxGFIG7r5q"
      },
      "source": [
        "La codificación de efectos (sum coding) es muy similar a la codificación dummy, pero da como resultado modelos de regresión lineal que son aún más simples de interpretar.\n",
        "\n",
        "En el ejemplo, vemos que el término de intersección representa la media global del la variable respuesta, y los coeficientes individuales indican cuánto las medias de las categorías individuales difieren de la media global. (Esto se llama el efecto principal de la categoría o nivel, de ahí el nombre \"codificación de efectos\").\n",
        "\n",
        "La codificación One-hot, encontró la misma intersección y coeficientes, pero en ese caso hay coeficientes lineales para cada ciudad. En la codificación de efecto, ningun feature representa la categoría de referencia, ***por lo que el efecto de la categoría de referencia debe calcularse por separado como la suma negativa de los coeficientes de todas las demás categorías.***"
      ]
    },
    {
      "cell_type": "code",
      "metadata": {
        "id": "iD55sBBjYG_1"
      },
      "source": [
        ""
      ],
      "execution_count": null,
      "outputs": []
    },
    {
      "cell_type": "code",
      "metadata": {
        "id": "NKay_oI0YHCs"
      },
      "source": [
        ""
      ],
      "execution_count": null,
      "outputs": []
    },
    {
      "cell_type": "markdown",
      "metadata": {
        "id": "0Qj1FCbp8y2Q"
      },
      "source": [
        "Restulados de la regresión lineal con One-hot encoding\n",
        "\n",
        "Coefficients: $[ 166.66666667,   666.66666667,  -833.33333333]$\n",
        "\n",
        "Intercept: $3333.3333333333335$"
      ]
    },
    {
      "cell_type": "code",
      "metadata": {
        "id": "al0_HBdgYILL"
      },
      "source": [
        ""
      ],
      "execution_count": null,
      "outputs": []
    },
    {
      "cell_type": "code",
      "metadata": {
        "id": "LExuuk-_YIP5"
      },
      "source": [
        ""
      ],
      "execution_count": null,
      "outputs": []
    },
    {
      "cell_type": "code",
      "metadata": {
        "id": "uyBCc0zlYIen"
      },
      "source": [
        ""
      ],
      "execution_count": null,
      "outputs": []
    },
    {
      "cell_type": "markdown",
      "metadata": {
        "id": "bVlwfMfRVbvf"
      },
      "source": [
        "### Backward Difference Coding"
      ]
    },
    {
      "cell_type": "code",
      "metadata": {
        "id": "QqYKpEowYJ-q"
      },
      "source": [
        "from category_encoders import BackwardDifferenceEncoder"
      ],
      "execution_count": 36,
      "outputs": []
    },
    {
      "cell_type": "code",
      "metadata": {
        "id": "3ePLmHhCYKFJ",
        "outputId": "452d3eda-39bb-48aa-f787-95d25c5afa59",
        "colab": {
          "base_uri": "https://localhost:8080/"
        }
      },
      "source": [
        "back_diff_enc = BackwardDifferenceEncoder()\n",
        "back_diff_df = back_diff_enc.fit_transform(df_test['City'])"
      ],
      "execution_count": 42,
      "outputs": [
        {
          "output_type": "stream",
          "text": [
            "/usr/local/lib/python3.7/dist-packages/category_encoders/utils.py:21: FutureWarning:\n",
            "\n",
            "is_categorical is deprecated and will be removed in a future version.  Use is_categorical_dtype instead\n",
            "\n"
          ],
          "name": "stderr"
        }
      ]
    },
    {
      "cell_type": "code",
      "metadata": {
        "id": "fj3PVpnwYKKb",
        "outputId": "4ea9f5ee-70ce-4831-9c7b-62cf1a44459f",
        "colab": {
          "base_uri": "https://localhost:8080/",
          "height": 206
        }
      },
      "source": [
        "back_diff_enc.mapping[0]['mapping']"
      ],
      "execution_count": 39,
      "outputs": [
        {
          "output_type": "execute_result",
          "data": {
            "text/html": [
              "<div>\n",
              "<style scoped>\n",
              "    .dataframe tbody tr th:only-of-type {\n",
              "        vertical-align: middle;\n",
              "    }\n",
              "\n",
              "    .dataframe tbody tr th {\n",
              "        vertical-align: top;\n",
              "    }\n",
              "\n",
              "    .dataframe thead th {\n",
              "        text-align: right;\n",
              "    }\n",
              "</style>\n",
              "<table border=\"1\" class=\"dataframe\">\n",
              "  <thead>\n",
              "    <tr style=\"text-align: right;\">\n",
              "      <th></th>\n",
              "      <th>City_0</th>\n",
              "      <th>City_1</th>\n",
              "    </tr>\n",
              "  </thead>\n",
              "  <tbody>\n",
              "    <tr>\n",
              "      <th>1</th>\n",
              "      <td>-0.666667</td>\n",
              "      <td>-0.333333</td>\n",
              "    </tr>\n",
              "    <tr>\n",
              "      <th>2</th>\n",
              "      <td>0.333333</td>\n",
              "      <td>-0.333333</td>\n",
              "    </tr>\n",
              "    <tr>\n",
              "      <th>3</th>\n",
              "      <td>0.333333</td>\n",
              "      <td>0.666667</td>\n",
              "    </tr>\n",
              "    <tr>\n",
              "      <th>-1</th>\n",
              "      <td>0.000000</td>\n",
              "      <td>0.000000</td>\n",
              "    </tr>\n",
              "    <tr>\n",
              "      <th>-2</th>\n",
              "      <td>0.000000</td>\n",
              "      <td>0.000000</td>\n",
              "    </tr>\n",
              "  </tbody>\n",
              "</table>\n",
              "</div>"
            ],
            "text/plain": [
              "      City_0    City_1\n",
              " 1 -0.666667 -0.333333\n",
              " 2  0.333333 -0.333333\n",
              " 3  0.333333  0.666667\n",
              "-1  0.000000  0.000000\n",
              "-2  0.000000  0.000000"
            ]
          },
          "metadata": {
            "tags": []
          },
          "execution_count": 39
        }
      ]
    },
    {
      "cell_type": "code",
      "metadata": {
        "id": "r1j6Pw0DYKOo"
      },
      "source": [
        ""
      ],
      "execution_count": null,
      "outputs": []
    },
    {
      "cell_type": "markdown",
      "metadata": {
        "id": "8u71jwcC_WNl"
      },
      "source": [
        "Utilizando el ejemplo de prueba"
      ]
    },
    {
      "cell_type": "code",
      "metadata": {
        "id": "RBv3d8olYLSH"
      },
      "source": [
        "from sklearn import linear_model"
      ],
      "execution_count": 40,
      "outputs": []
    },
    {
      "cell_type": "code",
      "metadata": {
        "id": "lUwDFfA0YLWv",
        "outputId": "2b149c5b-baf9-43b1-eddc-fbd345bab75c",
        "colab": {
          "base_uri": "https://localhost:8080/"
        }
      },
      "source": [
        "model = linear_model.LinearRegression()\n",
        "model.fit(back_diff_df[['City_0', 'City_1']], df_test['Rent'])"
      ],
      "execution_count": 43,
      "outputs": [
        {
          "output_type": "execute_result",
          "data": {
            "text/plain": [
              "LinearRegression(copy_X=True, fit_intercept=True, n_jobs=None, normalize=False)"
            ]
          },
          "metadata": {
            "tags": []
          },
          "execution_count": 43
        }
      ]
    },
    {
      "cell_type": "code",
      "metadata": {
        "id": "AEbeqUB7YLa6",
        "outputId": "4faec931-99f3-44c0-e8a8-ef64d4d762f7",
        "colab": {
          "base_uri": "https://localhost:8080/"
        }
      },
      "source": [
        "print(model.coef_)\n",
        "print(model.intercept_)"
      ],
      "execution_count": 44,
      "outputs": [
        {
          "output_type": "stream",
          "text": [
            "[ -500. -1000.]\n",
            "3333.3333333333335\n"
          ],
          "name": "stdout"
        }
      ]
    },
    {
      "cell_type": "code",
      "metadata": {
        "id": "I-CcEK-cYLen",
        "outputId": "e9eabed3-a0ae-4fec-afdf-2a59713816c8",
        "colab": {
          "base_uri": "https://localhost:8080/"
        }
      },
      "source": [
        "print(df_test['Rent'].mean())\n",
        "print(df_test.groupby('City').mean())"
      ],
      "execution_count": 45,
      "outputs": [
        {
          "output_type": "stream",
          "text": [
            "3333.3333333333335\n",
            "         Rent\n",
            "City         \n",
            "NYC      3500\n",
            "SF       4000\n",
            "Seattle  2500\n"
          ],
          "name": "stdout"
        }
      ]
    },
    {
      "cell_type": "markdown",
      "metadata": {
        "id": "aD4F8yuCCruy"
      },
      "source": [
        "La codificación de diferencia en reversa es útil para codificar variables ordinales.\n",
        "\n",
        "En el ejemplo, vemos que el término de intersección representa la media global de la variable respuesta, y los coeficientes individuales indican cuánto las medias de las categorías individuales difieren de la media de la categoría inmediatamente anterior."
      ]
    },
    {
      "cell_type": "code",
      "metadata": {
        "id": "zm8AfMk0YMdH"
      },
      "source": [
        ""
      ],
      "execution_count": null,
      "outputs": []
    },
    {
      "cell_type": "code",
      "metadata": {
        "id": "OFxf2ayuYMg3"
      },
      "source": [
        ""
      ],
      "execution_count": null,
      "outputs": []
    },
    {
      "cell_type": "markdown",
      "metadata": {
        "id": "ps-YS27NVhjv"
      },
      "source": [
        "### Helmert Coding"
      ]
    },
    {
      "cell_type": "code",
      "metadata": {
        "id": "U_ElH8UOAFDP"
      },
      "source": [
        "from category_encoders import HelmertEncoder"
      ],
      "execution_count": 46,
      "outputs": []
    },
    {
      "cell_type": "code",
      "metadata": {
        "id": "HE763qDfYNo4",
        "outputId": "7dc7f0ca-f864-40a7-fee7-0287acbb30e6",
        "colab": {
          "base_uri": "https://localhost:8080/"
        }
      },
      "source": [
        "hel_enc = HelmertEncoder()\n",
        "hel_df = hel_enc.fit_transform(df_test['City'], df_test['Rent'])\n"
      ],
      "execution_count": 47,
      "outputs": [
        {
          "output_type": "stream",
          "text": [
            "/usr/local/lib/python3.7/dist-packages/category_encoders/utils.py:21: FutureWarning:\n",
            "\n",
            "is_categorical is deprecated and will be removed in a future version.  Use is_categorical_dtype instead\n",
            "\n"
          ],
          "name": "stderr"
        }
      ]
    },
    {
      "cell_type": "code",
      "metadata": {
        "id": "7hesv13FYNss",
        "outputId": "5306bad9-b2a1-49d6-e0df-0c38b37269d6",
        "colab": {
          "base_uri": "https://localhost:8080/",
          "height": 332
        }
      },
      "source": [
        "hel_df"
      ],
      "execution_count": 48,
      "outputs": [
        {
          "output_type": "execute_result",
          "data": {
            "text/html": [
              "<div>\n",
              "<style scoped>\n",
              "    .dataframe tbody tr th:only-of-type {\n",
              "        vertical-align: middle;\n",
              "    }\n",
              "\n",
              "    .dataframe tbody tr th {\n",
              "        vertical-align: top;\n",
              "    }\n",
              "\n",
              "    .dataframe thead th {\n",
              "        text-align: right;\n",
              "    }\n",
              "</style>\n",
              "<table border=\"1\" class=\"dataframe\">\n",
              "  <thead>\n",
              "    <tr style=\"text-align: right;\">\n",
              "      <th></th>\n",
              "      <th>intercept</th>\n",
              "      <th>City_0</th>\n",
              "      <th>City_1</th>\n",
              "    </tr>\n",
              "  </thead>\n",
              "  <tbody>\n",
              "    <tr>\n",
              "      <th>0</th>\n",
              "      <td>1</td>\n",
              "      <td>-1.0</td>\n",
              "      <td>-1.0</td>\n",
              "    </tr>\n",
              "    <tr>\n",
              "      <th>1</th>\n",
              "      <td>1</td>\n",
              "      <td>-1.0</td>\n",
              "      <td>-1.0</td>\n",
              "    </tr>\n",
              "    <tr>\n",
              "      <th>2</th>\n",
              "      <td>1</td>\n",
              "      <td>-1.0</td>\n",
              "      <td>-1.0</td>\n",
              "    </tr>\n",
              "    <tr>\n",
              "      <th>3</th>\n",
              "      <td>1</td>\n",
              "      <td>1.0</td>\n",
              "      <td>-1.0</td>\n",
              "    </tr>\n",
              "    <tr>\n",
              "      <th>4</th>\n",
              "      <td>1</td>\n",
              "      <td>1.0</td>\n",
              "      <td>-1.0</td>\n",
              "    </tr>\n",
              "    <tr>\n",
              "      <th>5</th>\n",
              "      <td>1</td>\n",
              "      <td>1.0</td>\n",
              "      <td>-1.0</td>\n",
              "    </tr>\n",
              "    <tr>\n",
              "      <th>6</th>\n",
              "      <td>1</td>\n",
              "      <td>0.0</td>\n",
              "      <td>2.0</td>\n",
              "    </tr>\n",
              "    <tr>\n",
              "      <th>7</th>\n",
              "      <td>1</td>\n",
              "      <td>0.0</td>\n",
              "      <td>2.0</td>\n",
              "    </tr>\n",
              "    <tr>\n",
              "      <th>8</th>\n",
              "      <td>1</td>\n",
              "      <td>0.0</td>\n",
              "      <td>2.0</td>\n",
              "    </tr>\n",
              "  </tbody>\n",
              "</table>\n",
              "</div>"
            ],
            "text/plain": [
              "   intercept  City_0  City_1\n",
              "0          1    -1.0    -1.0\n",
              "1          1    -1.0    -1.0\n",
              "2          1    -1.0    -1.0\n",
              "3          1     1.0    -1.0\n",
              "4          1     1.0    -1.0\n",
              "5          1     1.0    -1.0\n",
              "6          1     0.0     2.0\n",
              "7          1     0.0     2.0\n",
              "8          1     0.0     2.0"
            ]
          },
          "metadata": {
            "tags": []
          },
          "execution_count": 48
        }
      ]
    },
    {
      "cell_type": "code",
      "metadata": {
        "id": "EyuORMsGYNwV",
        "outputId": "29a2a4c3-aebf-473f-94c8-58f528f273a1",
        "colab": {
          "base_uri": "https://localhost:8080/",
          "height": 206
        }
      },
      "source": [
        "hel_enc.mapping[0]['mapping']"
      ],
      "execution_count": 49,
      "outputs": [
        {
          "output_type": "execute_result",
          "data": {
            "text/html": [
              "<div>\n",
              "<style scoped>\n",
              "    .dataframe tbody tr th:only-of-type {\n",
              "        vertical-align: middle;\n",
              "    }\n",
              "\n",
              "    .dataframe tbody tr th {\n",
              "        vertical-align: top;\n",
              "    }\n",
              "\n",
              "    .dataframe thead th {\n",
              "        text-align: right;\n",
              "    }\n",
              "</style>\n",
              "<table border=\"1\" class=\"dataframe\">\n",
              "  <thead>\n",
              "    <tr style=\"text-align: right;\">\n",
              "      <th></th>\n",
              "      <th>City_0</th>\n",
              "      <th>City_1</th>\n",
              "    </tr>\n",
              "  </thead>\n",
              "  <tbody>\n",
              "    <tr>\n",
              "      <th>1</th>\n",
              "      <td>-1.0</td>\n",
              "      <td>-1.0</td>\n",
              "    </tr>\n",
              "    <tr>\n",
              "      <th>2</th>\n",
              "      <td>1.0</td>\n",
              "      <td>-1.0</td>\n",
              "    </tr>\n",
              "    <tr>\n",
              "      <th>3</th>\n",
              "      <td>0.0</td>\n",
              "      <td>2.0</td>\n",
              "    </tr>\n",
              "    <tr>\n",
              "      <th>-1</th>\n",
              "      <td>0.0</td>\n",
              "      <td>0.0</td>\n",
              "    </tr>\n",
              "    <tr>\n",
              "      <th>-2</th>\n",
              "      <td>0.0</td>\n",
              "      <td>0.0</td>\n",
              "    </tr>\n",
              "  </tbody>\n",
              "</table>\n",
              "</div>"
            ],
            "text/plain": [
              "    City_0  City_1\n",
              " 1    -1.0    -1.0\n",
              " 2     1.0    -1.0\n",
              " 3     0.0     2.0\n",
              "-1     0.0     0.0\n",
              "-2     0.0     0.0"
            ]
          },
          "metadata": {
            "tags": []
          },
          "execution_count": 49
        }
      ]
    },
    {
      "cell_type": "code",
      "metadata": {
        "id": "EbabJfmhYNz2"
      },
      "source": [
        ""
      ],
      "execution_count": null,
      "outputs": []
    },
    {
      "cell_type": "markdown",
      "metadata": {
        "id": "yHPhkTQWA3us"
      },
      "source": [
        "Utilizando el ejemplo de prueba"
      ]
    },
    {
      "cell_type": "code",
      "metadata": {
        "id": "yB5BVu1LYPy5"
      },
      "source": [
        ""
      ],
      "execution_count": null,
      "outputs": []
    },
    {
      "cell_type": "code",
      "metadata": {
        "id": "_TsOqaDkYP4O",
        "outputId": "dc4f4a9b-fbf0-46f1-9772-c47a2f223bbe",
        "colab": {
          "base_uri": "https://localhost:8080/"
        }
      },
      "source": [
        "model = linear_model.LinearRegression()\n",
        "model.fit(hel_df[['City_0', 'City_1']], df_test['Rent'])"
      ],
      "execution_count": 50,
      "outputs": [
        {
          "output_type": "execute_result",
          "data": {
            "text/plain": [
              "LinearRegression(copy_X=True, fit_intercept=True, n_jobs=None, normalize=False)"
            ]
          },
          "metadata": {
            "tags": []
          },
          "execution_count": 50
        }
      ]
    },
    {
      "cell_type": "code",
      "metadata": {
        "id": "aXmn-oZdYP8U",
        "outputId": "a7efd6b4-9edd-4368-99f2-8edfddb10f8d",
        "colab": {
          "base_uri": "https://localhost:8080/"
        }
      },
      "source": [
        "print(model.coef_)\n",
        "print(model.intercept_)"
      ],
      "execution_count": 51,
      "outputs": [
        {
          "output_type": "stream",
          "text": [
            "[-250.         -416.66666667]\n",
            "3333.3333333333335\n"
          ],
          "name": "stdout"
        }
      ]
    },
    {
      "cell_type": "code",
      "metadata": {
        "id": "ZmAT5PQ4YP_n",
        "outputId": "e288bd18-db7f-42ad-e63b-99d7cf2643c9",
        "colab": {
          "base_uri": "https://localhost:8080/"
        }
      },
      "source": [
        "print(df_test['Rent'].mean())\n",
        "print(df_test.groupby('City').mean())"
      ],
      "execution_count": 52,
      "outputs": [
        {
          "output_type": "stream",
          "text": [
            "3333.3333333333335\n",
            "         Rent\n",
            "City         \n",
            "NYC      3500\n",
            "SF       4000\n",
            "Seattle  2500\n"
          ],
          "name": "stdout"
        }
      ]
    },
    {
      "cell_type": "code",
      "metadata": {
        "id": "oD5XuzGQYQD2"
      },
      "source": [
        ""
      ],
      "execution_count": null,
      "outputs": []
    },
    {
      "cell_type": "code",
      "metadata": {
        "id": "5l7x8fN5YQHA"
      },
      "source": [
        ""
      ],
      "execution_count": null,
      "outputs": []
    },
    {
      "cell_type": "code",
      "metadata": {
        "id": "n8WYX3nTYQJq"
      },
      "source": [
        ""
      ],
      "execution_count": null,
      "outputs": []
    },
    {
      "cell_type": "markdown",
      "metadata": {
        "id": "9amfYePmVlt5"
      },
      "source": [
        "#Supervised Encoders"
      ]
    },
    {
      "cell_type": "code",
      "metadata": {
        "id": "xmEJN_oCO5Fx"
      },
      "source": [
        ""
      ],
      "execution_count": null,
      "outputs": []
    },
    {
      "cell_type": "code",
      "metadata": {
        "id": "XJ41viXsYTPh"
      },
      "source": [
        "from sklearn.preprocessing import LabelEncoder"
      ],
      "execution_count": 16,
      "outputs": []
    },
    {
      "cell_type": "code",
      "metadata": {
        "id": "C_Er02mBYTTv"
      },
      "source": [
        "label_enc = LabelEncoder()\n",
        "\n",
        "df['Class_enc'] = label_enc.fit_transform(df['Class'])"
      ],
      "execution_count": 17,
      "outputs": []
    },
    {
      "cell_type": "code",
      "metadata": {
        "id": "FM6FNRVXO5IE",
        "outputId": "e14ebf03-41b2-413e-b793-4d3879d88572",
        "colab": {
          "base_uri": "https://localhost:8080/",
          "height": 226
        }
      },
      "source": [
        "df.head()"
      ],
      "execution_count": 18,
      "outputs": [
        {
          "output_type": "execute_result",
          "data": {
            "text/html": [
              "<div>\n",
              "<style scoped>\n",
              "    .dataframe tbody tr th:only-of-type {\n",
              "        vertical-align: middle;\n",
              "    }\n",
              "\n",
              "    .dataframe tbody tr th {\n",
              "        vertical-align: top;\n",
              "    }\n",
              "\n",
              "    .dataframe thead th {\n",
              "        text-align: right;\n",
              "    }\n",
              "</style>\n",
              "<table border=\"1\" class=\"dataframe\">\n",
              "  <thead>\n",
              "    <tr style=\"text-align: right;\">\n",
              "      <th></th>\n",
              "      <th>age</th>\n",
              "      <th>diet</th>\n",
              "      <th>drinks</th>\n",
              "      <th>drugs</th>\n",
              "      <th>education</th>\n",
              "      <th>height</th>\n",
              "      <th>income</th>\n",
              "      <th>last_online</th>\n",
              "      <th>offspring</th>\n",
              "      <th>pets</th>\n",
              "      <th>religion</th>\n",
              "      <th>sign</th>\n",
              "      <th>smokes</th>\n",
              "      <th>status</th>\n",
              "      <th>where_state</th>\n",
              "      <th>where_town</th>\n",
              "      <th>religion_modifer</th>\n",
              "      <th>sign_modifer</th>\n",
              "      <th>cpp</th>\n",
              "      <th>cpp_fluently</th>\n",
              "      <th>cpp_okay</th>\n",
              "      <th>cpp_poorly</th>\n",
              "      <th>lisp</th>\n",
              "      <th>lisp_fluently</th>\n",
              "      <th>lisp_okay</th>\n",
              "      <th>lisp_poorly</th>\n",
              "      <th>asian</th>\n",
              "      <th>black</th>\n",
              "      <th>hispanic_latin</th>\n",
              "      <th>indian</th>\n",
              "      <th>middle_eastern</th>\n",
              "      <th>native_american</th>\n",
              "      <th>other</th>\n",
              "      <th>pacific_islander</th>\n",
              "      <th>white</th>\n",
              "      <th>essay_length</th>\n",
              "      <th>Class</th>\n",
              "      <th>profile</th>\n",
              "      <th>Class_enc</th>\n",
              "    </tr>\n",
              "  </thead>\n",
              "  <tbody>\n",
              "    <tr>\n",
              "      <th>1</th>\n",
              "      <td>22</td>\n",
              "      <td>strictly_anything</td>\n",
              "      <td>socially</td>\n",
              "      <td>never</td>\n",
              "      <td>working_on_college_university</td>\n",
              "      <td>75</td>\n",
              "      <td>missing</td>\n",
              "      <td>3</td>\n",
              "      <td>doesnt_have_kids_but_might_want_them</td>\n",
              "      <td>likes_dogs_and_likes_cats</td>\n",
              "      <td>agnosticism</td>\n",
              "      <td>gemini</td>\n",
              "      <td>sometimes</td>\n",
              "      <td>single</td>\n",
              "      <td>california</td>\n",
              "      <td>south_san_francisco</td>\n",
              "      <td>and_very_serious_about_it</td>\n",
              "      <td>sign_mod_missing</td>\n",
              "      <td>0</td>\n",
              "      <td>0</td>\n",
              "      <td>0</td>\n",
              "      <td>0</td>\n",
              "      <td>0</td>\n",
              "      <td>0</td>\n",
              "      <td>0</td>\n",
              "      <td>0</td>\n",
              "      <td>1</td>\n",
              "      <td>0</td>\n",
              "      <td>0</td>\n",
              "      <td>0</td>\n",
              "      <td>0</td>\n",
              "      <td>0</td>\n",
              "      <td>0</td>\n",
              "      <td>0</td>\n",
              "      <td>1</td>\n",
              "      <td>3.420945</td>\n",
              "      <td>other</td>\n",
              "      <td>1</td>\n",
              "      <td>0</td>\n",
              "    </tr>\n",
              "    <tr>\n",
              "      <th>4</th>\n",
              "      <td>23</td>\n",
              "      <td>vegetarian</td>\n",
              "      <td>socially</td>\n",
              "      <td>drugs_missing</td>\n",
              "      <td>working_on_college_university</td>\n",
              "      <td>71</td>\n",
              "      <td>inc20000</td>\n",
              "      <td>3</td>\n",
              "      <td>doesnt_want_kids</td>\n",
              "      <td>likes_cats</td>\n",
              "      <td>religion_missing</td>\n",
              "      <td>pisces</td>\n",
              "      <td>no</td>\n",
              "      <td>single</td>\n",
              "      <td>california</td>\n",
              "      <td>berkeley</td>\n",
              "      <td>religion_mod_missing</td>\n",
              "      <td>sign_mod_missing</td>\n",
              "      <td>0</td>\n",
              "      <td>0</td>\n",
              "      <td>0</td>\n",
              "      <td>0</td>\n",
              "      <td>0</td>\n",
              "      <td>0</td>\n",
              "      <td>0</td>\n",
              "      <td>0</td>\n",
              "      <td>0</td>\n",
              "      <td>0</td>\n",
              "      <td>0</td>\n",
              "      <td>0</td>\n",
              "      <td>0</td>\n",
              "      <td>0</td>\n",
              "      <td>0</td>\n",
              "      <td>0</td>\n",
              "      <td>1</td>\n",
              "      <td>2.671173</td>\n",
              "      <td>other</td>\n",
              "      <td>3</td>\n",
              "      <td>0</td>\n",
              "    </tr>\n",
              "    <tr>\n",
              "      <th>6</th>\n",
              "      <td>29</td>\n",
              "      <td>mostly_anything</td>\n",
              "      <td>socially</td>\n",
              "      <td>drugs_missing</td>\n",
              "      <td>graduated_from_college_university</td>\n",
              "      <td>67</td>\n",
              "      <td>missing</td>\n",
              "      <td>2</td>\n",
              "      <td>doesnt_have_kids_but_might_want_them</td>\n",
              "      <td>likes_cats</td>\n",
              "      <td>atheism</td>\n",
              "      <td>taurus</td>\n",
              "      <td>no</td>\n",
              "      <td>single</td>\n",
              "      <td>california</td>\n",
              "      <td>san_francisco</td>\n",
              "      <td>religion_mod_missing</td>\n",
              "      <td>sign_mod_missing</td>\n",
              "      <td>0</td>\n",
              "      <td>0</td>\n",
              "      <td>0</td>\n",
              "      <td>0</td>\n",
              "      <td>0</td>\n",
              "      <td>0</td>\n",
              "      <td>0</td>\n",
              "      <td>0</td>\n",
              "      <td>0</td>\n",
              "      <td>0</td>\n",
              "      <td>0</td>\n",
              "      <td>0</td>\n",
              "      <td>0</td>\n",
              "      <td>0</td>\n",
              "      <td>0</td>\n",
              "      <td>0</td>\n",
              "      <td>1</td>\n",
              "      <td>3.391112</td>\n",
              "      <td>stem</td>\n",
              "      <td>5</td>\n",
              "      <td>1</td>\n",
              "    </tr>\n",
              "    <tr>\n",
              "      <th>8</th>\n",
              "      <td>31</td>\n",
              "      <td>mostly_anything</td>\n",
              "      <td>socially</td>\n",
              "      <td>never</td>\n",
              "      <td>graduated_from_college_university</td>\n",
              "      <td>65</td>\n",
              "      <td>missing</td>\n",
              "      <td>2</td>\n",
              "      <td>doesnt_have_kids_but_wants_them</td>\n",
              "      <td>likes_dogs_and_likes_cats</td>\n",
              "      <td>christianity</td>\n",
              "      <td>sagittarius</td>\n",
              "      <td>no</td>\n",
              "      <td>single</td>\n",
              "      <td>california</td>\n",
              "      <td>san_francisco</td>\n",
              "      <td>religion_mod_missing</td>\n",
              "      <td>sign_mod_missing</td>\n",
              "      <td>0</td>\n",
              "      <td>0</td>\n",
              "      <td>0</td>\n",
              "      <td>0</td>\n",
              "      <td>0</td>\n",
              "      <td>0</td>\n",
              "      <td>0</td>\n",
              "      <td>0</td>\n",
              "      <td>0</td>\n",
              "      <td>0</td>\n",
              "      <td>0</td>\n",
              "      <td>0</td>\n",
              "      <td>0</td>\n",
              "      <td>0</td>\n",
              "      <td>0</td>\n",
              "      <td>0</td>\n",
              "      <td>1</td>\n",
              "      <td>3.090611</td>\n",
              "      <td>other</td>\n",
              "      <td>6</td>\n",
              "      <td>0</td>\n",
              "    </tr>\n",
              "    <tr>\n",
              "      <th>10</th>\n",
              "      <td>37</td>\n",
              "      <td>mostly_anything</td>\n",
              "      <td>not_at_all</td>\n",
              "      <td>never</td>\n",
              "      <td>working_on_two_year_college</td>\n",
              "      <td>65</td>\n",
              "      <td>missing</td>\n",
              "      <td>3</td>\n",
              "      <td>kids_missing</td>\n",
              "      <td>likes_dogs_and_likes_cats</td>\n",
              "      <td>atheism</td>\n",
              "      <td>cancer</td>\n",
              "      <td>no</td>\n",
              "      <td>single</td>\n",
              "      <td>california</td>\n",
              "      <td>san_mateo</td>\n",
              "      <td>and_laughing_about_it</td>\n",
              "      <td>but_it_doesnt_matter</td>\n",
              "      <td>0</td>\n",
              "      <td>0</td>\n",
              "      <td>0</td>\n",
              "      <td>0</td>\n",
              "      <td>0</td>\n",
              "      <td>0</td>\n",
              "      <td>0</td>\n",
              "      <td>0</td>\n",
              "      <td>0</td>\n",
              "      <td>0</td>\n",
              "      <td>0</td>\n",
              "      <td>0</td>\n",
              "      <td>0</td>\n",
              "      <td>0</td>\n",
              "      <td>0</td>\n",
              "      <td>0</td>\n",
              "      <td>1</td>\n",
              "      <td>3.382377</td>\n",
              "      <td>other</td>\n",
              "      <td>7</td>\n",
              "      <td>0</td>\n",
              "    </tr>\n",
              "  </tbody>\n",
              "</table>\n",
              "</div>"
            ],
            "text/plain": [
              "    age               diet      drinks  ...  Class profile  Class_enc\n",
              "1    22  strictly_anything    socially  ...  other       1          0\n",
              "4    23         vegetarian    socially  ...  other       3          0\n",
              "6    29    mostly_anything    socially  ...   stem       5          1\n",
              "8    31    mostly_anything    socially  ...  other       6          0\n",
              "10   37    mostly_anything  not_at_all  ...  other       7          0\n",
              "\n",
              "[5 rows x 39 columns]"
            ]
          },
          "metadata": {
            "tags": []
          },
          "execution_count": 18
        }
      ]
    },
    {
      "cell_type": "markdown",
      "metadata": {
        "id": "GjKnBAVhVovy"
      },
      "source": [
        "## Target Encoder"
      ]
    },
    {
      "cell_type": "code",
      "metadata": {
        "id": "1DCvjNXRYWLs"
      },
      "source": [
        "from category_encoders import TargetEncoder"
      ],
      "execution_count": 26,
      "outputs": []
    },
    {
      "cell_type": "code",
      "metadata": {
        "id": "4o4mYAb3YWPW",
        "outputId": "b98c2e63-7312-4927-fe5a-231305682594",
        "colab": {
          "base_uri": "https://localhost:8080/",
          "height": 497
        }
      },
      "source": [
        "cat_enc = TargetEncoder()\n",
        "cat_enc.fit_transform(df[col_cat], df['Class_enc'])"
      ],
      "execution_count": 27,
      "outputs": [
        {
          "output_type": "stream",
          "text": [
            "/usr/local/lib/python3.7/dist-packages/category_encoders/utils.py:21: FutureWarning:\n",
            "\n",
            "is_categorical is deprecated and will be removed in a future version.  Use is_categorical_dtype instead\n",
            "\n"
          ],
          "name": "stderr"
        },
        {
          "output_type": "execute_result",
          "data": {
            "text/html": [
              "<div>\n",
              "<style scoped>\n",
              "    .dataframe tbody tr th:only-of-type {\n",
              "        vertical-align: middle;\n",
              "    }\n",
              "\n",
              "    .dataframe tbody tr th {\n",
              "        vertical-align: top;\n",
              "    }\n",
              "\n",
              "    .dataframe thead th {\n",
              "        text-align: right;\n",
              "    }\n",
              "</style>\n",
              "<table border=\"1\" class=\"dataframe\">\n",
              "  <thead>\n",
              "    <tr style=\"text-align: right;\">\n",
              "      <th></th>\n",
              "      <th>drinks</th>\n",
              "    </tr>\n",
              "  </thead>\n",
              "  <tbody>\n",
              "    <tr>\n",
              "      <th>1</th>\n",
              "      <td>0.189201</td>\n",
              "    </tr>\n",
              "    <tr>\n",
              "      <th>4</th>\n",
              "      <td>0.189201</td>\n",
              "    </tr>\n",
              "    <tr>\n",
              "      <th>6</th>\n",
              "      <td>0.189201</td>\n",
              "    </tr>\n",
              "    <tr>\n",
              "      <th>8</th>\n",
              "      <td>0.189201</td>\n",
              "    </tr>\n",
              "    <tr>\n",
              "      <th>10</th>\n",
              "      <td>0.147891</td>\n",
              "    </tr>\n",
              "    <tr>\n",
              "      <th>...</th>\n",
              "      <td>...</td>\n",
              "    </tr>\n",
              "    <tr>\n",
              "      <th>59940</th>\n",
              "      <td>0.189201</td>\n",
              "    </tr>\n",
              "    <tr>\n",
              "      <th>59943</th>\n",
              "      <td>0.195429</td>\n",
              "    </tr>\n",
              "    <tr>\n",
              "      <th>59944</th>\n",
              "      <td>0.147891</td>\n",
              "    </tr>\n",
              "    <tr>\n",
              "      <th>59945</th>\n",
              "      <td>0.189201</td>\n",
              "    </tr>\n",
              "    <tr>\n",
              "      <th>59946</th>\n",
              "      <td>0.189201</td>\n",
              "    </tr>\n",
              "  </tbody>\n",
              "</table>\n",
              "<p>38809 rows × 1 columns</p>\n",
              "</div>"
            ],
            "text/plain": [
              "         drinks\n",
              "1      0.189201\n",
              "4      0.189201\n",
              "6      0.189201\n",
              "8      0.189201\n",
              "10     0.147891\n",
              "...         ...\n",
              "59940  0.189201\n",
              "59943  0.195429\n",
              "59944  0.147891\n",
              "59945  0.189201\n",
              "59946  0.189201\n",
              "\n",
              "[38809 rows x 1 columns]"
            ]
          },
          "metadata": {
            "tags": []
          },
          "execution_count": 27
        }
      ]
    },
    {
      "cell_type": "code",
      "metadata": {
        "id": "s7LWU1zcYWSi",
        "outputId": "5fab8410-b394-4ee2-faa1-b0ec9f145aed",
        "colab": {
          "base_uri": "https://localhost:8080/"
        }
      },
      "source": [
        "cat_enc.mapping"
      ],
      "execution_count": 29,
      "outputs": [
        {
          "output_type": "execute_result",
          "data": {
            "text/plain": [
              "{'drinks': drinks\n",
              "  1    0.189201\n",
              "  2    0.147891\n",
              "  3    0.170058\n",
              "  4    0.195429\n",
              "  5    0.179636\n",
              "  6    0.137931\n",
              "  7    0.171429\n",
              " -1    0.184674\n",
              " -2    0.184674\n",
              " dtype: float64}"
            ]
          },
          "metadata": {
            "tags": []
          },
          "execution_count": 29
        }
      ]
    },
    {
      "cell_type": "code",
      "metadata": {
        "id": "GSgzXWMfYWVt"
      },
      "source": [
        ""
      ],
      "execution_count": null,
      "outputs": []
    },
    {
      "cell_type": "code",
      "metadata": {
        "id": "JfjlA_k6YWYp"
      },
      "source": [
        ""
      ],
      "execution_count": null,
      "outputs": []
    },
    {
      "cell_type": "markdown",
      "metadata": {
        "id": "3TFTlmR2VsDP"
      },
      "source": [
        "## Leave-one-out Encoder"
      ]
    },
    {
      "cell_type": "code",
      "metadata": {
        "id": "63iPr69eYX2y"
      },
      "source": [
        "from category_encoders import LeaveOneOutEncoder"
      ],
      "execution_count": 30,
      "outputs": []
    },
    {
      "cell_type": "code",
      "metadata": {
        "id": "KMDJZHTQYX6I",
        "outputId": "fa96a609-cdfe-44ff-dc60-6ecfda1bfcc8",
        "colab": {
          "base_uri": "https://localhost:8080/",
          "height": 424
        }
      },
      "source": [
        "loo_enc = LeaveOneOutEncoder()\n",
        "loo_enc.fit_transform(df[col_cat], df['Class_enc'])"
      ],
      "execution_count": 31,
      "outputs": [
        {
          "output_type": "execute_result",
          "data": {
            "text/html": [
              "<div>\n",
              "<style scoped>\n",
              "    .dataframe tbody tr th:only-of-type {\n",
              "        vertical-align: middle;\n",
              "    }\n",
              "\n",
              "    .dataframe tbody tr th {\n",
              "        vertical-align: top;\n",
              "    }\n",
              "\n",
              "    .dataframe thead th {\n",
              "        text-align: right;\n",
              "    }\n",
              "</style>\n",
              "<table border=\"1\" class=\"dataframe\">\n",
              "  <thead>\n",
              "    <tr style=\"text-align: right;\">\n",
              "      <th></th>\n",
              "      <th>drinks</th>\n",
              "    </tr>\n",
              "  </thead>\n",
              "  <tbody>\n",
              "    <tr>\n",
              "      <th>1</th>\n",
              "      <td>0.189208</td>\n",
              "    </tr>\n",
              "    <tr>\n",
              "      <th>4</th>\n",
              "      <td>0.189208</td>\n",
              "    </tr>\n",
              "    <tr>\n",
              "      <th>6</th>\n",
              "      <td>0.189172</td>\n",
              "    </tr>\n",
              "    <tr>\n",
              "      <th>8</th>\n",
              "      <td>0.189208</td>\n",
              "    </tr>\n",
              "    <tr>\n",
              "      <th>10</th>\n",
              "      <td>0.147959</td>\n",
              "    </tr>\n",
              "    <tr>\n",
              "      <th>...</th>\n",
              "      <td>...</td>\n",
              "    </tr>\n",
              "    <tr>\n",
              "      <th>59940</th>\n",
              "      <td>0.189208</td>\n",
              "    </tr>\n",
              "    <tr>\n",
              "      <th>59943</th>\n",
              "      <td>0.195487</td>\n",
              "    </tr>\n",
              "    <tr>\n",
              "      <th>59944</th>\n",
              "      <td>0.147959</td>\n",
              "    </tr>\n",
              "    <tr>\n",
              "      <th>59945</th>\n",
              "      <td>0.189208</td>\n",
              "    </tr>\n",
              "    <tr>\n",
              "      <th>59946</th>\n",
              "      <td>0.189208</td>\n",
              "    </tr>\n",
              "  </tbody>\n",
              "</table>\n",
              "<p>38809 rows × 1 columns</p>\n",
              "</div>"
            ],
            "text/plain": [
              "         drinks\n",
              "1      0.189208\n",
              "4      0.189208\n",
              "6      0.189172\n",
              "8      0.189208\n",
              "10     0.147959\n",
              "...         ...\n",
              "59940  0.189208\n",
              "59943  0.195487\n",
              "59944  0.147959\n",
              "59945  0.189208\n",
              "59946  0.189208\n",
              "\n",
              "[38809 rows x 1 columns]"
            ]
          },
          "metadata": {
            "tags": []
          },
          "execution_count": 31
        }
      ]
    },
    {
      "cell_type": "code",
      "metadata": {
        "id": "eKc3F8qEYX9T",
        "outputId": "f08e70b1-ab95-434f-b1f6-13557a2b3c29",
        "colab": {
          "base_uri": "https://localhost:8080/"
        }
      },
      "source": [
        "loo_enc.mapping"
      ],
      "execution_count": 32,
      "outputs": [
        {
          "output_type": "execute_result",
          "data": {
            "text/plain": [
              "{'drinks':                    sum  count\n",
              " desperately       36.0    210\n",
              " drinks_missing   217.0   1208\n",
              " not_at_all       319.0   2157\n",
              " often            667.0   3413\n",
              " rarely           677.0   3981\n",
              " socially        5207.0  27521\n",
              " very_often        44.0    319}"
            ]
          },
          "metadata": {
            "tags": []
          },
          "execution_count": 32
        }
      ]
    },
    {
      "cell_type": "code",
      "metadata": {
        "id": "lLeKxXUKYYAa"
      },
      "source": [
        ""
      ],
      "execution_count": null,
      "outputs": []
    },
    {
      "cell_type": "markdown",
      "metadata": {
        "id": "ZCIDBuHIVvoM"
      },
      "source": [
        "## M-estimate Encoder"
      ]
    },
    {
      "cell_type": "code",
      "metadata": {
        "id": "akkEuspSYZXk"
      },
      "source": [
        "from category_encoders import MEstimateEncoder"
      ],
      "execution_count": 33,
      "outputs": []
    },
    {
      "cell_type": "code",
      "metadata": {
        "id": "Pi5orBe1YZbP",
        "outputId": "ebf9f673-9ef3-4a39-ba7a-d6c8bae78839",
        "colab": {
          "base_uri": "https://localhost:8080/",
          "height": 497
        }
      },
      "source": [
        "mes_enc = MEstimateEncoder()\n",
        "mes_enc.fit_transform(df[col_cat], df['Class_enc'])"
      ],
      "execution_count": 34,
      "outputs": [
        {
          "output_type": "stream",
          "text": [
            "/usr/local/lib/python3.7/dist-packages/category_encoders/utils.py:21: FutureWarning:\n",
            "\n",
            "is_categorical is deprecated and will be removed in a future version.  Use is_categorical_dtype instead\n",
            "\n"
          ],
          "name": "stderr"
        },
        {
          "output_type": "execute_result",
          "data": {
            "text/html": [
              "<div>\n",
              "<style scoped>\n",
              "    .dataframe tbody tr th:only-of-type {\n",
              "        vertical-align: middle;\n",
              "    }\n",
              "\n",
              "    .dataframe tbody tr th {\n",
              "        vertical-align: top;\n",
              "    }\n",
              "\n",
              "    .dataframe thead th {\n",
              "        text-align: right;\n",
              "    }\n",
              "</style>\n",
              "<table border=\"1\" class=\"dataframe\">\n",
              "  <thead>\n",
              "    <tr style=\"text-align: right;\">\n",
              "      <th></th>\n",
              "      <th>drinks</th>\n",
              "    </tr>\n",
              "  </thead>\n",
              "  <tbody>\n",
              "    <tr>\n",
              "      <th>1</th>\n",
              "      <td>0.189201</td>\n",
              "    </tr>\n",
              "    <tr>\n",
              "      <th>4</th>\n",
              "      <td>0.189201</td>\n",
              "    </tr>\n",
              "    <tr>\n",
              "      <th>6</th>\n",
              "      <td>0.189201</td>\n",
              "    </tr>\n",
              "    <tr>\n",
              "      <th>8</th>\n",
              "      <td>0.189201</td>\n",
              "    </tr>\n",
              "    <tr>\n",
              "      <th>10</th>\n",
              "      <td>0.147908</td>\n",
              "    </tr>\n",
              "    <tr>\n",
              "      <th>...</th>\n",
              "      <td>...</td>\n",
              "    </tr>\n",
              "    <tr>\n",
              "      <th>59940</th>\n",
              "      <td>0.189201</td>\n",
              "    </tr>\n",
              "    <tr>\n",
              "      <th>59943</th>\n",
              "      <td>0.195426</td>\n",
              "    </tr>\n",
              "    <tr>\n",
              "      <th>59944</th>\n",
              "      <td>0.147908</td>\n",
              "    </tr>\n",
              "    <tr>\n",
              "      <th>59945</th>\n",
              "      <td>0.189201</td>\n",
              "    </tr>\n",
              "    <tr>\n",
              "      <th>59946</th>\n",
              "      <td>0.189201</td>\n",
              "    </tr>\n",
              "  </tbody>\n",
              "</table>\n",
              "<p>38809 rows × 1 columns</p>\n",
              "</div>"
            ],
            "text/plain": [
              "         drinks\n",
              "1      0.189201\n",
              "4      0.189201\n",
              "6      0.189201\n",
              "8      0.189201\n",
              "10     0.147908\n",
              "...         ...\n",
              "59940  0.189201\n",
              "59943  0.195426\n",
              "59944  0.147908\n",
              "59945  0.189201\n",
              "59946  0.189201\n",
              "\n",
              "[38809 rows x 1 columns]"
            ]
          },
          "metadata": {
            "tags": []
          },
          "execution_count": 34
        }
      ]
    },
    {
      "cell_type": "code",
      "metadata": {
        "id": "Q6HkdGZVYZen",
        "outputId": "1e3de2b3-e45d-448e-b3fa-237171937bf9",
        "colab": {
          "base_uri": "https://localhost:8080/"
        }
      },
      "source": [
        "mes_enc.mapping"
      ],
      "execution_count": 35,
      "outputs": [
        {
          "output_type": "execute_result",
          "data": {
            "text/plain": [
              "{'drinks': drinks\n",
              "  1    0.189201\n",
              "  2    0.147908\n",
              "  3    0.170061\n",
              "  4    0.195426\n",
              "  5    0.179640\n",
              "  6    0.138077\n",
              "  7    0.171491\n",
              " -1    0.184674\n",
              " -2    0.184674\n",
              " dtype: float64}"
            ]
          },
          "metadata": {
            "tags": []
          },
          "execution_count": 35
        }
      ]
    },
    {
      "cell_type": "code",
      "metadata": {
        "id": "_KVzeQxNYZh3"
      },
      "source": [
        ""
      ],
      "execution_count": null,
      "outputs": []
    },
    {
      "cell_type": "markdown",
      "metadata": {
        "id": "JTxlXgAIVyTk"
      },
      "source": [
        "## Weight of Evidence Encoder"
      ]
    },
    {
      "cell_type": "code",
      "metadata": {
        "id": "jZ1cl1TyV65K"
      },
      "source": [
        "from category_encoders import WOEEncoder\n",
        "col_cat = 'drinks'"
      ],
      "execution_count": 23,
      "outputs": []
    },
    {
      "cell_type": "code",
      "metadata": {
        "id": "W3gBiLN0V_ep",
        "outputId": "22c6a96f-aae9-4776-c2e6-0904edac7fa6",
        "colab": {
          "base_uri": "https://localhost:8080/",
          "height": 497
        }
      },
      "source": [
        "woe_enc = WOEEncoder()\n",
        "woe_enc.fit_transform(df[col_cat], df['Class_enc'])"
      ],
      "execution_count": 24,
      "outputs": [
        {
          "output_type": "stream",
          "text": [
            "/usr/local/lib/python3.7/dist-packages/category_encoders/utils.py:21: FutureWarning:\n",
            "\n",
            "is_categorical is deprecated and will be removed in a future version.  Use is_categorical_dtype instead\n",
            "\n"
          ],
          "name": "stderr"
        },
        {
          "output_type": "execute_result",
          "data": {
            "text/html": [
              "<div>\n",
              "<style scoped>\n",
              "    .dataframe tbody tr th:only-of-type {\n",
              "        vertical-align: middle;\n",
              "    }\n",
              "\n",
              "    .dataframe tbody tr th {\n",
              "        vertical-align: top;\n",
              "    }\n",
              "\n",
              "    .dataframe thead th {\n",
              "        text-align: right;\n",
              "    }\n",
              "</style>\n",
              "<table border=\"1\" class=\"dataframe\">\n",
              "  <thead>\n",
              "    <tr style=\"text-align: right;\">\n",
              "      <th></th>\n",
              "      <th>drinks</th>\n",
              "    </tr>\n",
              "  </thead>\n",
              "  <tbody>\n",
              "    <tr>\n",
              "      <th>1</th>\n",
              "      <td>0.029719</td>\n",
              "    </tr>\n",
              "    <tr>\n",
              "      <th>4</th>\n",
              "      <td>0.029719</td>\n",
              "    </tr>\n",
              "    <tr>\n",
              "      <th>6</th>\n",
              "      <td>0.029719</td>\n",
              "    </tr>\n",
              "    <tr>\n",
              "      <th>8</th>\n",
              "      <td>0.029719</td>\n",
              "    </tr>\n",
              "    <tr>\n",
              "      <th>10</th>\n",
              "      <td>-0.263874</td>\n",
              "    </tr>\n",
              "    <tr>\n",
              "      <th>...</th>\n",
              "      <td>...</td>\n",
              "    </tr>\n",
              "    <tr>\n",
              "      <th>59940</th>\n",
              "      <td>0.029719</td>\n",
              "    </tr>\n",
              "    <tr>\n",
              "      <th>59943</th>\n",
              "      <td>0.070806</td>\n",
              "    </tr>\n",
              "    <tr>\n",
              "      <th>59944</th>\n",
              "      <td>-0.263874</td>\n",
              "    </tr>\n",
              "    <tr>\n",
              "      <th>59945</th>\n",
              "      <td>0.029719</td>\n",
              "    </tr>\n",
              "    <tr>\n",
              "      <th>59946</th>\n",
              "      <td>0.029719</td>\n",
              "    </tr>\n",
              "  </tbody>\n",
              "</table>\n",
              "<p>38809 rows × 1 columns</p>\n",
              "</div>"
            ],
            "text/plain": [
              "         drinks\n",
              "1      0.029719\n",
              "4      0.029719\n",
              "6      0.029719\n",
              "8      0.029719\n",
              "10    -0.263874\n",
              "...         ...\n",
              "59940  0.029719\n",
              "59943  0.070806\n",
              "59944 -0.263874\n",
              "59945  0.029719\n",
              "59946  0.029719\n",
              "\n",
              "[38809 rows x 1 columns]"
            ]
          },
          "metadata": {
            "tags": []
          },
          "execution_count": 24
        }
      ]
    },
    {
      "cell_type": "code",
      "metadata": {
        "id": "GIlWJqj0WBAV",
        "outputId": "46acce9b-733e-49df-dbef-a3f431652330",
        "colab": {
          "base_uri": "https://localhost:8080/"
        }
      },
      "source": [
        "woe_enc.mapping"
      ],
      "execution_count": 25,
      "outputs": [
        {
          "output_type": "execute_result",
          "data": {
            "text/plain": [
              "{'drinks': drinks\n",
              "  1    0.029719\n",
              "  2   -0.263874\n",
              "  3   -0.099262\n",
              "  4    0.070806\n",
              "  5   -0.030446\n",
              "  6   -0.328956\n",
              "  7   -0.069086\n",
              " -1    0.000000\n",
              " -2    0.000000\n",
              " dtype: float64}"
            ]
          },
          "metadata": {
            "tags": []
          },
          "execution_count": 25
        }
      ]
    },
    {
      "cell_type": "code",
      "metadata": {
        "id": "uj68FhWqG59g"
      },
      "source": [
        ""
      ],
      "execution_count": null,
      "outputs": []
    }
  ]
}